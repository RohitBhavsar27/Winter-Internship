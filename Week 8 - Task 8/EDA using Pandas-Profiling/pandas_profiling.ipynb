{
 "cells": [
  {
   "cell_type": "markdown",
   "metadata": {},
   "source": [
    "# Objective : EDA using Pandas Profiling"
   ]
  },
  {
   "cell_type": "markdown",
   "metadata": {},
   "source": [
    "### Importing Required Libraries ->"
   ]
  },
  {
   "cell_type": "code",
   "execution_count": 1,
   "metadata": {},
   "outputs": [],
   "source": [
    "import pandas as pd \n",
    "from ydata_profiling import ProfileReport"
   ]
  },
  {
   "cell_type": "markdown",
   "metadata": {},
   "source": [
    "### Load the Datsets ->"
   ]
  },
  {
   "cell_type": "code",
   "execution_count": 2,
   "metadata": {},
   "outputs": [],
   "source": [
    "daily_activity = pd.read_csv(\"G:\\My Drive\\Prepinsta - Data Analytics\\Week 8 - Task 8\\Master Datasets\\daily_merged_data.csv\",index_col=0)\n",
    "hourly_activity = pd.read_csv(\"G:\\My Drive\\Prepinsta - Data Analytics\\Week 8 - Task 8\\Master Datasets\\hourly_merged_data.csv\",index_col=0)\n",
    "minutely_activity_narrow = pd.read_csv(\"G:\\My Drive\\Prepinsta - Data Analytics\\Week 8 - Task 8\\Master Datasets\\minutely_merged_data_narrow.csv\",index_col=0)\n",
    "minutely_activity_wide = pd.read_csv(\"G:\\My Drive\\Prepinsta - Data Analytics\\Week 8 - Task 8\\Master Datasets\\minutely_merged_data_wide.csv\",index_col=0)\n",
    "heartrate = pd.read_csv(\"G:\\My Drive\\Prepinsta - Data Analytics\\Week 8 - Task 8\\Master Datasets\\heartrate_data.csv\",index_col=0)\n",
    "minute_sleep = pd.read_csv(\"G:\\My Drive\\Prepinsta - Data Analytics\\Week 8 - Task 8\\Master Datasets\\minuteSleep_data.csv\",index_col=0)\n",
    "sleep_day = pd.read_csv(\"G:\\My Drive\\Prepinsta - Data Analytics\\Week 8 - Task 8\\Master Datasets\\sleepDay_data.csv\",index_col=0)\n",
    "weight_log = pd.read_csv(\"G:\\My Drive\\Prepinsta - Data Analytics\\Week 8 - Task 8\\Master Datasets\\weightLog_data.csv\",index_col=0)"
   ]
  },
  {
   "cell_type": "markdown",
   "metadata": {},
   "source": [
    "### Preview the Dataset ->"
   ]
  },
  {
   "cell_type": "code",
   "execution_count": 3,
   "metadata": {},
   "outputs": [
    {
     "name": "stdout",
     "output_type": "stream",
     "text": [
      "DAILY_ACTIVITY:\n",
      "           id activityday  totalsteps  totaldistance  trackerdistance  \\\n",
      "0  1503960366  2016-04-12       13162           8.50             8.50   \n",
      "1  1503960366  2016-04-13       10735           6.97             6.97   \n",
      "2  1503960366  2016-04-14       10460           6.74             6.74   \n",
      "3  1503960366  2016-04-15        9762           6.28             6.28   \n",
      "4  1503960366  2016-04-16       12669           8.16             8.16   \n",
      "\n",
      "   loggedactivitiesdistance  veryactivedistance  moderatelyactivedistance  \\\n",
      "0                       0.0                1.88                      0.55   \n",
      "1                       0.0                1.57                      0.69   \n",
      "2                       0.0                2.44                      0.40   \n",
      "3                       0.0                2.14                      1.26   \n",
      "4                       0.0                2.71                      0.41   \n",
      "\n",
      "   lightactivedistance  sedentaryactivedistance  ...  steptotal  \\\n",
      "0                 6.06                      0.0  ...      13162   \n",
      "1                 4.71                      0.0  ...      10735   \n",
      "2                 3.91                      0.0  ...      10460   \n",
      "3                 2.83                      0.0  ...       9762   \n",
      "4                 5.04                      0.0  ...      12669   \n",
      "\n",
      "   calories_calories  sedentaryminutes_intensities  \\\n",
      "0               1985                           728   \n",
      "1               1797                           776   \n",
      "2               1776                          1218   \n",
      "3               1745                           726   \n",
      "4               1863                           773   \n",
      "\n",
      "   lightlyactiveminutes_intensities  fairlyactiveminutes_intensities  \\\n",
      "0                               328                               13   \n",
      "1                               217                               19   \n",
      "2                               181                               11   \n",
      "3                               209                               34   \n",
      "4                               221                               10   \n",
      "\n",
      "   veryactiveminutes_intensities  sedentaryactivedistance_intensities  \\\n",
      "0                             25                                  0.0   \n",
      "1                             21                                  0.0   \n",
      "2                             30                                  0.0   \n",
      "3                             29                                  0.0   \n",
      "4                             36                                  0.0   \n",
      "\n",
      "   lightactivedistance_intensities  moderatelyactivedistance_intensities  \\\n",
      "0                             6.06                                  0.55   \n",
      "1                             4.71                                  0.69   \n",
      "2                             3.91                                  0.40   \n",
      "3                             2.83                                  1.26   \n",
      "4                             5.04                                  0.41   \n",
      "\n",
      "   veryactivedistance_intensities  \n",
      "0                            1.88  \n",
      "1                            1.57  \n",
      "2                            2.44  \n",
      "3                            2.14  \n",
      "4                            2.71  \n",
      "\n",
      "[5 rows x 25 columns]\n",
      "['id', 'activityday', 'totalsteps', 'totaldistance', 'trackerdistance', 'loggedactivitiesdistance', 'veryactivedistance', 'moderatelyactivedistance', 'lightactivedistance', 'sedentaryactivedistance', 'veryactiveminutes', 'fairlyactiveminutes', 'lightlyactiveminutes', 'sedentaryminutes', 'calories', 'steptotal', 'calories_calories', 'sedentaryminutes_intensities', 'lightlyactiveminutes_intensities', 'fairlyactiveminutes_intensities', 'veryactiveminutes_intensities', 'sedentaryactivedistance_intensities', 'lightactivedistance_intensities', 'moderatelyactivedistance_intensities', 'veryactivedistance_intensities']\n",
      "\n",
      "\n",
      "HOURLY_ACTIVITY:\n",
      "           id activityday activitytime  steptotal  calories  totalintensity  \\\n",
      "0  1503960366  2016-04-12     12:00:00        373        81              20   \n",
      "1  1503960366  2016-04-12      1:00:00        160        61               8   \n",
      "2  1503960366  2016-04-12      2:00:00        151        59               7   \n",
      "3  1503960366  2016-04-12      3:00:00          0        47               0   \n",
      "4  1503960366  2016-04-12      4:00:00          0        48               0   \n",
      "\n",
      "   averageintensity  \n",
      "0          0.333333  \n",
      "1          0.133333  \n",
      "2          0.116667  \n",
      "3          0.000000  \n",
      "4          0.000000  \n",
      "['id', 'activityday', 'activitytime', 'steptotal', 'calories', 'totalintensity', 'averageintensity']\n",
      "\n",
      "\n",
      "MINUTELY_ACTIVITY_NARROW:\n",
      "           id activityday activitytime  calories  intensity  mets  steps\n",
      "0  1503960366  2016-04-12     12:00:00    0.7865          0    10      0\n",
      "1  1503960366  2016-04-12     12:01:00    0.7865          0    10      0\n",
      "2  1503960366  2016-04-12     12:02:00    0.7865          0    10      0\n",
      "3  1503960366  2016-04-12     12:03:00    0.7865          0    10      0\n",
      "4  1503960366  2016-04-12     12:04:00    0.7865          0    10      0\n",
      "['id', 'activityday', 'activitytime', 'calories', 'intensity', 'mets', 'steps']\n",
      "\n",
      "\n",
      "MINUTELY_ACTIVITY_WIDE:\n",
      "           id activityday activitytime  minute  intensities  calories  steps\n",
      "0  1503960366  2016-04-13     12:00:00       0            1    1.8876      4\n",
      "1  1503960366  2016-04-13      1:00:00       0            0    0.7865      0\n",
      "2  1503960366  2016-04-13      2:00:00       0            0    0.7865      0\n",
      "3  1503960366  2016-04-13      3:00:00       0            0    0.7865      0\n",
      "4  1503960366  2016-04-13      4:00:00       0            0    0.7865      0\n",
      "['id', 'activityday', 'activitytime', 'minute', 'intensities', 'calories', 'steps']\n",
      "\n",
      "\n",
      "HEARTRATE,MINUTE_SLEEP:\n",
      "           activityday activitytime  value\n",
      "Id                                        \n",
      "2022484408  2016-04-12      7:21:00     97\n",
      "2022484408  2016-04-12      7:21:05    102\n",
      "2022484408  2016-04-12      7:21:10    105\n",
      "2022484408  2016-04-12      7:21:20    103\n",
      "2022484408  2016-04-12      7:21:25    101\n",
      "['activityday', 'activitytime', 'value']\n",
      "\n",
      "\n",
      "SLEEP_DAY:\n",
      "           activityday activitytime  value        logid\n",
      "Id                                                     \n",
      "1503960366  2016-04-12      2:47:30      3  11380564589\n",
      "1503960366  2016-04-12      2:48:30      2  11380564589\n",
      "1503960366  2016-04-12      2:49:30      1  11380564589\n",
      "1503960366  2016-04-12      2:50:30      1  11380564589\n",
      "1503960366  2016-04-12      2:51:30      1  11380564589\n",
      "['activityday', 'activitytime', 'value', 'logid']\n",
      "\n",
      "\n",
      "WEIGHT_LOG:\n",
      "           activityday activitytime  totalsleeprecords  totalminutesasleep  \\\n",
      "Id                                                                           \n",
      "1503960366  2016-04-12     12:00:00                  1                 327   \n",
      "1503960366  2016-04-13     12:00:00                  2                 384   \n",
      "1503960366  2016-04-15     12:00:00                  1                 412   \n",
      "1503960366  2016-04-16     12:00:00                  2                 340   \n",
      "1503960366  2016-04-17     12:00:00                  1                 700   \n",
      "\n",
      "            totaltimeinbed  \n",
      "Id                          \n",
      "1503960366             346  \n",
      "1503960366             407  \n",
      "1503960366             442  \n",
      "1503960366             367  \n",
      "1503960366             712  \n",
      "['activityday', 'activitytime', 'totalsleeprecords', 'totalminutesasleep', 'totaltimeinbed']\n",
      "\n",
      "\n"
     ]
    }
   ],
   "source": [
    "# Inspect the first few rows and the column names of each dataset\n",
    "datasets = [daily_activity, hourly_activity, minutely_activity_narrow, minutely_activity_wide, heartrate,minute_sleep, sleep_day, weight_log]\n",
    "dataset_names = ['daily_activity', 'hourly_activity', 'minutely_activity_narrow', 'minutely_activity_wide', 'heartrate,minute_sleep', 'sleep_day', 'weight_log']\n",
    "\n",
    "for name, dataset in zip(dataset_names, datasets):\n",
    "    print(f\"{name.upper()}:\")\n",
    "    print(dataset.head())\n",
    "    print(dataset.columns.tolist())\n",
    "    print(\"\\n\")"
   ]
  },
  {
   "cell_type": "markdown",
   "metadata": {},
   "source": [
    "### EDA on Daily Activity Data ->"
   ]
  },
  {
   "cell_type": "code",
   "execution_count": 17,
   "metadata": {},
   "outputs": [
    {
     "name": "stderr",
     "output_type": "stream",
     "text": [
      "c:\\Users\\bhavs\\anaconda3\\Lib\\site-packages\\ydata_profiling\\profile_report.py:354: UserWarning: Try running command: 'pip install --upgrade Pillow' to avoid ValueError\n",
      "  warnings.warn(\n"
     ]
    },
    {
     "data": {
      "application/vnd.jupyter.widget-view+json": {
       "model_id": "09db8c365fed4422bd6c14e41dfba0b5",
       "version_major": 2,
       "version_minor": 0
      },
      "text/plain": [
       "Summarize dataset:   0%|          | 0/5 [00:00<?, ?it/s]"
      ]
     },
     "metadata": {},
     "output_type": "display_data"
    },
    {
     "data": {
      "application/vnd.jupyter.widget-view+json": {
       "model_id": "23c61e4fe3d84275bfe17e025df44cbb",
       "version_major": 2,
       "version_minor": 0
      },
      "text/plain": [
       "Generate report structure:   0%|          | 0/1 [00:00<?, ?it/s]"
      ]
     },
     "metadata": {},
     "output_type": "display_data"
    },
    {
     "data": {
      "application/vnd.jupyter.widget-view+json": {
       "model_id": "c0d9d20941714c99ad990d507d594f38",
       "version_major": 2,
       "version_minor": 0
      },
      "text/plain": [
       "Render HTML:   0%|          | 0/1 [00:00<?, ?it/s]"
      ]
     },
     "metadata": {},
     "output_type": "display_data"
    },
    {
     "data": {
      "application/vnd.jupyter.widget-view+json": {
       "model_id": "8fe30202a4db4a59a1e32774f6d4a58c",
       "version_major": 2,
       "version_minor": 0
      },
      "text/plain": [
       "Export report to file:   0%|          | 0/1 [00:00<?, ?it/s]"
      ]
     },
     "metadata": {},
     "output_type": "display_data"
    }
   ],
   "source": [
    "profile = ProfileReport(daily_activity, title=\"EDA : Daily Activity\", explorative = True, dark_mode = True) \n",
    "profile.to_file(\"daily_activity_eda.html\")"
   ]
  },
  {
   "cell_type": "markdown",
   "metadata": {},
   "source": [
    "### EDA on Hourly Activity Data ->"
   ]
  },
  {
   "cell_type": "code",
   "execution_count": 10,
   "metadata": {},
   "outputs": [
    {
     "name": "stderr",
     "output_type": "stream",
     "text": [
      "c:\\Users\\bhavs\\anaconda3\\Lib\\site-packages\\ydata_profiling\\profile_report.py:354: UserWarning: Try running command: 'pip install --upgrade Pillow' to avoid ValueError\n",
      "  warnings.warn(\n"
     ]
    },
    {
     "data": {
      "application/vnd.jupyter.widget-view+json": {
       "model_id": "e5762c7057604971a47fef7ca626603d",
       "version_major": 2,
       "version_minor": 0
      },
      "text/plain": [
       "Summarize dataset:   0%|          | 0/5 [00:00<?, ?it/s]"
      ]
     },
     "metadata": {},
     "output_type": "display_data"
    },
    {
     "data": {
      "application/vnd.jupyter.widget-view+json": {
       "model_id": "e8939aaebe3d45559b27cf6b1e3c94b8",
       "version_major": 2,
       "version_minor": 0
      },
      "text/plain": [
       "Generate report structure:   0%|          | 0/1 [00:00<?, ?it/s]"
      ]
     },
     "metadata": {},
     "output_type": "display_data"
    },
    {
     "data": {
      "application/vnd.jupyter.widget-view+json": {
       "model_id": "08d85f9de5f648408dec457edae071e3",
       "version_major": 2,
       "version_minor": 0
      },
      "text/plain": [
       "Render HTML:   0%|          | 0/1 [00:00<?, ?it/s]"
      ]
     },
     "metadata": {},
     "output_type": "display_data"
    },
    {
     "data": {
      "application/vnd.jupyter.widget-view+json": {
       "model_id": "13a6d3bb14af475db6659eb2fa5931ef",
       "version_major": 2,
       "version_minor": 0
      },
      "text/plain": [
       "Export report to file:   0%|          | 0/1 [00:00<?, ?it/s]"
      ]
     },
     "metadata": {},
     "output_type": "display_data"
    }
   ],
   "source": [
    "profile = ProfileReport(hourly_activity, title =\"EDA : Hourly Activity\", explorative = True, dark_mode = True)\n",
    "profile.to_file(\"hourly_activity_eda.html\")"
   ]
  },
  {
   "cell_type": "markdown",
   "metadata": {},
   "source": [
    "### EDA on Minutely Activity (narrow) Data ->"
   ]
  },
  {
   "cell_type": "code",
   "execution_count": 11,
   "metadata": {},
   "outputs": [
    {
     "name": "stderr",
     "output_type": "stream",
     "text": [
      "c:\\Users\\bhavs\\anaconda3\\Lib\\site-packages\\ydata_profiling\\profile_report.py:354: UserWarning: Try running command: 'pip install --upgrade Pillow' to avoid ValueError\n",
      "  warnings.warn(\n"
     ]
    },
    {
     "data": {
      "application/vnd.jupyter.widget-view+json": {
       "model_id": "c6fdc68ea775439cbb2df759088fbeb6",
       "version_major": 2,
       "version_minor": 0
      },
      "text/plain": [
       "Summarize dataset:   0%|          | 0/5 [00:00<?, ?it/s]"
      ]
     },
     "metadata": {},
     "output_type": "display_data"
    },
    {
     "data": {
      "application/vnd.jupyter.widget-view+json": {
       "model_id": "020fa6163eef4dbbaeb257066db98719",
       "version_major": 2,
       "version_minor": 0
      },
      "text/plain": [
       "Generate report structure:   0%|          | 0/1 [00:00<?, ?it/s]"
      ]
     },
     "metadata": {},
     "output_type": "display_data"
    },
    {
     "data": {
      "application/vnd.jupyter.widget-view+json": {
       "model_id": "f605cbe2b674484e9f30510b5d6f4ec4",
       "version_major": 2,
       "version_minor": 0
      },
      "text/plain": [
       "Render HTML:   0%|          | 0/1 [00:00<?, ?it/s]"
      ]
     },
     "metadata": {},
     "output_type": "display_data"
    },
    {
     "data": {
      "application/vnd.jupyter.widget-view+json": {
       "model_id": "c4193ee6cec14b1cb41dc6050bb3fdc2",
       "version_major": 2,
       "version_minor": 0
      },
      "text/plain": [
       "Export report to file:   0%|          | 0/1 [00:00<?, ?it/s]"
      ]
     },
     "metadata": {},
     "output_type": "display_data"
    }
   ],
   "source": [
    "profile = ProfileReport(minutely_activity_narrow, title =\"EDA : Minutely Activity\", explorative = True, dark_mode = True)\n",
    "profile.to_file(\"minutely_activity_narrow_eda.html\")"
   ]
  },
  {
   "cell_type": "markdown",
   "metadata": {},
   "source": [
    "### EDA on Minutely Activity (wide) Data ->"
   ]
  },
  {
   "cell_type": "code",
   "execution_count": 12,
   "metadata": {},
   "outputs": [
    {
     "name": "stderr",
     "output_type": "stream",
     "text": [
      "c:\\Users\\bhavs\\anaconda3\\Lib\\site-packages\\ydata_profiling\\profile_report.py:354: UserWarning: Try running command: 'pip install --upgrade Pillow' to avoid ValueError\n",
      "  warnings.warn(\n"
     ]
    },
    {
     "data": {
      "application/vnd.jupyter.widget-view+json": {
       "model_id": "21a018428d7e42bb9c8dc13ccdb58441",
       "version_major": 2,
       "version_minor": 0
      },
      "text/plain": [
       "Summarize dataset:   0%|          | 0/5 [00:00<?, ?it/s]"
      ]
     },
     "metadata": {},
     "output_type": "display_data"
    },
    {
     "data": {
      "application/vnd.jupyter.widget-view+json": {
       "model_id": "1b0c04d3ed68415e98957528d5562dfb",
       "version_major": 2,
       "version_minor": 0
      },
      "text/plain": [
       "Generate report structure:   0%|          | 0/1 [00:00<?, ?it/s]"
      ]
     },
     "metadata": {},
     "output_type": "display_data"
    },
    {
     "data": {
      "application/vnd.jupyter.widget-view+json": {
       "model_id": "d88ba8a423e343b3b0c95645ac2a70e4",
       "version_major": 2,
       "version_minor": 0
      },
      "text/plain": [
       "Render HTML:   0%|          | 0/1 [00:00<?, ?it/s]"
      ]
     },
     "metadata": {},
     "output_type": "display_data"
    },
    {
     "data": {
      "application/vnd.jupyter.widget-view+json": {
       "model_id": "84cb2a1e405342838c55e084b6e5219c",
       "version_major": 2,
       "version_minor": 0
      },
      "text/plain": [
       "Export report to file:   0%|          | 0/1 [00:00<?, ?it/s]"
      ]
     },
     "metadata": {},
     "output_type": "display_data"
    }
   ],
   "source": [
    "profile = ProfileReport(minutely_activity_narrow, title =\"EDA : Minutely Activity\", explorative = True, dark_mode = True)\n",
    "profile.to_file(\"minutely_activity_wide_eda.html\")"
   ]
  },
  {
   "cell_type": "markdown",
   "metadata": {},
   "source": [
    "### EDA on Minute Sleep Data ->"
   ]
  },
  {
   "cell_type": "code",
   "execution_count": 13,
   "metadata": {},
   "outputs": [
    {
     "name": "stderr",
     "output_type": "stream",
     "text": [
      "c:\\Users\\bhavs\\anaconda3\\Lib\\site-packages\\ydata_profiling\\profile_report.py:354: UserWarning: Try running command: 'pip install --upgrade Pillow' to avoid ValueError\n",
      "  warnings.warn(\n"
     ]
    },
    {
     "data": {
      "application/vnd.jupyter.widget-view+json": {
       "model_id": "022b35cb88704227a878d79472da94d5",
       "version_major": 2,
       "version_minor": 0
      },
      "text/plain": [
       "Summarize dataset:   0%|          | 0/5 [00:00<?, ?it/s]"
      ]
     },
     "metadata": {},
     "output_type": "display_data"
    },
    {
     "name": "stderr",
     "output_type": "stream",
     "text": [
      "c:\\Users\\bhavs\\anaconda3\\Lib\\site-packages\\ydata_profiling\\model\\correlations.py:66: UserWarning: There was an attempt to calculate the auto correlation, but this failed.\n",
      "To hide this warning, disable the calculation\n",
      "(using `df.profile_report(correlations={\"auto\": {\"calculate\": False}})`\n",
      "If this is problematic for your use case, please report this as an issue:\n",
      "https://github.com/ydataai/ydata-profiling/issues\n",
      "(include the error message: 'cannot reindex on an axis with duplicate labels')\n",
      "  warnings.warn(\n"
     ]
    },
    {
     "data": {
      "application/vnd.jupyter.widget-view+json": {
       "model_id": "5fbbcff641ca49cba90c56a3226202b9",
       "version_major": 2,
       "version_minor": 0
      },
      "text/plain": [
       "Generate report structure:   0%|          | 0/1 [00:00<?, ?it/s]"
      ]
     },
     "metadata": {},
     "output_type": "display_data"
    },
    {
     "data": {
      "application/vnd.jupyter.widget-view+json": {
       "model_id": "6aea81c4ad48459c943bfbc3a57f0b8d",
       "version_major": 2,
       "version_minor": 0
      },
      "text/plain": [
       "Render HTML:   0%|          | 0/1 [00:00<?, ?it/s]"
      ]
     },
     "metadata": {},
     "output_type": "display_data"
    },
    {
     "data": {
      "application/vnd.jupyter.widget-view+json": {
       "model_id": "f2ce7b0682e24a709c123f6751d0da9b",
       "version_major": 2,
       "version_minor": 0
      },
      "text/plain": [
       "Export report to file:   0%|          | 0/1 [00:00<?, ?it/s]"
      ]
     },
     "metadata": {},
     "output_type": "display_data"
    }
   ],
   "source": [
    "profile = ProfileReport(minute_sleep, title =\"EDA : Minutely Sleep\", explorative = True, dark_mode = True)\n",
    "profile.to_file(\"minutely_sleep_eda.html\")"
   ]
  },
  {
   "cell_type": "markdown",
   "metadata": {},
   "source": [
    "### EDA on Heartrate Data ->"
   ]
  },
  {
   "cell_type": "code",
   "execution_count": 14,
   "metadata": {},
   "outputs": [
    {
     "name": "stderr",
     "output_type": "stream",
     "text": [
      "c:\\Users\\bhavs\\anaconda3\\Lib\\site-packages\\ydata_profiling\\profile_report.py:354: UserWarning: Try running command: 'pip install --upgrade Pillow' to avoid ValueError\n",
      "  warnings.warn(\n"
     ]
    },
    {
     "data": {
      "application/vnd.jupyter.widget-view+json": {
       "model_id": "2015c7ea9ec74dc78b49a6a2050b3cca",
       "version_major": 2,
       "version_minor": 0
      },
      "text/plain": [
       "Summarize dataset:   0%|          | 0/5 [00:00<?, ?it/s]"
      ]
     },
     "metadata": {},
     "output_type": "display_data"
    },
    {
     "data": {
      "application/vnd.jupyter.widget-view+json": {
       "model_id": "9a1376a4f9a245f694b1e4d4b0b543b2",
       "version_major": 2,
       "version_minor": 0
      },
      "text/plain": [
       "Generate report structure:   0%|          | 0/1 [00:00<?, ?it/s]"
      ]
     },
     "metadata": {},
     "output_type": "display_data"
    },
    {
     "data": {
      "application/vnd.jupyter.widget-view+json": {
       "model_id": "871d930582ae4e02ab5b3432c2b3d67e",
       "version_major": 2,
       "version_minor": 0
      },
      "text/plain": [
       "Render HTML:   0%|          | 0/1 [00:00<?, ?it/s]"
      ]
     },
     "metadata": {},
     "output_type": "display_data"
    },
    {
     "data": {
      "application/vnd.jupyter.widget-view+json": {
       "model_id": "bf858a45482b4af094950b58b1dec4c8",
       "version_major": 2,
       "version_minor": 0
      },
      "text/plain": [
       "Export report to file:   0%|          | 0/1 [00:00<?, ?it/s]"
      ]
     },
     "metadata": {},
     "output_type": "display_data"
    }
   ],
   "source": [
    "profile = ProfileReport(heartrate, title =\"EDA : Heartrate\", explorative = True, dark_mode = True)\n",
    "profile.to_file(\"heartrate_eda.html\")"
   ]
  },
  {
   "cell_type": "markdown",
   "metadata": {},
   "source": [
    "### EDA on Sleep Day Data ->"
   ]
  },
  {
   "cell_type": "code",
   "execution_count": 15,
   "metadata": {},
   "outputs": [
    {
     "name": "stderr",
     "output_type": "stream",
     "text": [
      "c:\\Users\\bhavs\\anaconda3\\Lib\\site-packages\\ydata_profiling\\profile_report.py:354: UserWarning: Try running command: 'pip install --upgrade Pillow' to avoid ValueError\n",
      "  warnings.warn(\n"
     ]
    },
    {
     "data": {
      "application/vnd.jupyter.widget-view+json": {
       "model_id": "6d635be140fa4dc486d18a9a63b82493",
       "version_major": 2,
       "version_minor": 0
      },
      "text/plain": [
       "Summarize dataset:   0%|          | 0/5 [00:00<?, ?it/s]"
      ]
     },
     "metadata": {},
     "output_type": "display_data"
    },
    {
     "name": "stderr",
     "output_type": "stream",
     "text": [
      "c:\\Users\\bhavs\\anaconda3\\Lib\\site-packages\\ydata_profiling\\model\\correlations.py:66: UserWarning: There was an attempt to calculate the auto correlation, but this failed.\n",
      "To hide this warning, disable the calculation\n",
      "(using `df.profile_report(correlations={\"auto\": {\"calculate\": False}})`\n",
      "If this is problematic for your use case, please report this as an issue:\n",
      "https://github.com/ydataai/ydata-profiling/issues\n",
      "(include the error message: 'cannot reindex on an axis with duplicate labels')\n",
      "  warnings.warn(\n"
     ]
    },
    {
     "data": {
      "application/vnd.jupyter.widget-view+json": {
       "model_id": "a545fde03e87499886045dd644b47e5e",
       "version_major": 2,
       "version_minor": 0
      },
      "text/plain": [
       "Generate report structure:   0%|          | 0/1 [00:00<?, ?it/s]"
      ]
     },
     "metadata": {},
     "output_type": "display_data"
    },
    {
     "data": {
      "application/vnd.jupyter.widget-view+json": {
       "model_id": "a00e17a65b5c4093bc52b29795e57699",
       "version_major": 2,
       "version_minor": 0
      },
      "text/plain": [
       "Render HTML:   0%|          | 0/1 [00:00<?, ?it/s]"
      ]
     },
     "metadata": {},
     "output_type": "display_data"
    },
    {
     "data": {
      "application/vnd.jupyter.widget-view+json": {
       "model_id": "d4d7c707f7394868a719e27bcef7ce6c",
       "version_major": 2,
       "version_minor": 0
      },
      "text/plain": [
       "Export report to file:   0%|          | 0/1 [00:00<?, ?it/s]"
      ]
     },
     "metadata": {},
     "output_type": "display_data"
    }
   ],
   "source": [
    "profile = ProfileReport(sleep_day, title =\"EDA : Sleep Day\", explorative = True, dark_mode = True)\n",
    "profile.to_file(\"sleepday_eda.html\")"
   ]
  },
  {
   "cell_type": "markdown",
   "metadata": {},
   "source": [
    "### EDA on Weight Log Data ->"
   ]
  },
  {
   "cell_type": "code",
   "execution_count": 16,
   "metadata": {},
   "outputs": [
    {
     "name": "stderr",
     "output_type": "stream",
     "text": [
      "c:\\Users\\bhavs\\anaconda3\\Lib\\site-packages\\ydata_profiling\\profile_report.py:354: UserWarning: Try running command: 'pip install --upgrade Pillow' to avoid ValueError\n",
      "  warnings.warn(\n"
     ]
    },
    {
     "data": {
      "application/vnd.jupyter.widget-view+json": {
       "model_id": "0332cd5da9814ffd8a3779324207436f",
       "version_major": 2,
       "version_minor": 0
      },
      "text/plain": [
       "Summarize dataset:   0%|          | 0/5 [00:00<?, ?it/s]"
      ]
     },
     "metadata": {},
     "output_type": "display_data"
    },
    {
     "name": "stderr",
     "output_type": "stream",
     "text": [
      "c:\\Users\\bhavs\\anaconda3\\Lib\\site-packages\\ydata_profiling\\model\\correlations.py:66: UserWarning: There was an attempt to calculate the auto correlation, but this failed.\n",
      "To hide this warning, disable the calculation\n",
      "(using `df.profile_report(correlations={\"auto\": {\"calculate\": False}})`\n",
      "If this is problematic for your use case, please report this as an issue:\n",
      "https://github.com/ydataai/ydata-profiling/issues\n",
      "(include the error message: 'cannot reindex on an axis with duplicate labels')\n",
      "  warnings.warn(\n"
     ]
    },
    {
     "data": {
      "application/vnd.jupyter.widget-view+json": {
       "model_id": "9fb6317160544bc898b1bf46ca85e907",
       "version_major": 2,
       "version_minor": 0
      },
      "text/plain": [
       "Generate report structure:   0%|          | 0/1 [00:00<?, ?it/s]"
      ]
     },
     "metadata": {},
     "output_type": "display_data"
    },
    {
     "data": {
      "application/vnd.jupyter.widget-view+json": {
       "model_id": "aeaf5c6b365c410c9052168a81e79cac",
       "version_major": 2,
       "version_minor": 0
      },
      "text/plain": [
       "Render HTML:   0%|          | 0/1 [00:00<?, ?it/s]"
      ]
     },
     "metadata": {},
     "output_type": "display_data"
    },
    {
     "data": {
      "application/vnd.jupyter.widget-view+json": {
       "model_id": "5bf41d3f25df439cab532a9d11b6e3c0",
       "version_major": 2,
       "version_minor": 0
      },
      "text/plain": [
       "Export report to file:   0%|          | 0/1 [00:00<?, ?it/s]"
      ]
     },
     "metadata": {},
     "output_type": "display_data"
    }
   ],
   "source": [
    "profile = ProfileReport(weight_log, title =\"EDA : Weight Log\", explorative = True, dark_mode = True)\n",
    "profile.to_file(\"weightLog_eda.html\")"
   ]
  }
 ],
 "metadata": {
  "kernelspec": {
   "display_name": "base",
   "language": "python",
   "name": "python3"
  },
  "language_info": {
   "codemirror_mode": {
    "name": "ipython",
    "version": 3
   },
   "file_extension": ".py",
   "mimetype": "text/x-python",
   "name": "python",
   "nbconvert_exporter": "python",
   "pygments_lexer": "ipython3",
   "version": "3.11.5"
  }
 },
 "nbformat": 4,
 "nbformat_minor": 2
}
