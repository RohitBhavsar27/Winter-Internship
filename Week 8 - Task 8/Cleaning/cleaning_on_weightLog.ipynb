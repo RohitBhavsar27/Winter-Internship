{
 "cells": [
  {
   "cell_type": "markdown",
   "metadata": {},
   "source": [
    "# Objective : Data Cleaning (weightLog)"
   ]
  },
  {
   "cell_type": "markdown",
   "metadata": {},
   "source": [
    "### Importing Required Libraries ->"
   ]
  },
  {
   "cell_type": "code",
   "execution_count": 1,
   "metadata": {},
   "outputs": [],
   "source": [
    "import pandas as pd\n",
    "import numpy as np \n",
    "import matplotlib.pyplot as plt\n",
    "import seaborn as sns"
   ]
  },
  {
   "cell_type": "markdown",
   "metadata": {},
   "source": [
    "### Load the Dataset ->"
   ]
  },
  {
   "cell_type": "code",
   "execution_count": 3,
   "metadata": {},
   "outputs": [],
   "source": [
    "df = pd.read_csv(\"G:\\My Drive\\Prepinsta - Data Analytics\\Week 8 - Task 8\\Other\\weightLogInfo_merged.csv\",index_col=0)"
   ]
  },
  {
   "cell_type": "markdown",
   "metadata": {},
   "source": [
    "### Preview the DataSet ->"
   ]
  },
  {
   "cell_type": "code",
   "execution_count": 4,
   "metadata": {},
   "outputs": [
    {
     "data": {
      "text/html": [
       "<div>\n",
       "<style scoped>\n",
       "    .dataframe tbody tr th:only-of-type {\n",
       "        vertical-align: middle;\n",
       "    }\n",
       "\n",
       "    .dataframe tbody tr th {\n",
       "        vertical-align: top;\n",
       "    }\n",
       "\n",
       "    .dataframe thead th {\n",
       "        text-align: right;\n",
       "    }\n",
       "</style>\n",
       "<table border=\"1\" class=\"dataframe\">\n",
       "  <thead>\n",
       "    <tr style=\"text-align: right;\">\n",
       "      <th></th>\n",
       "      <th>Date</th>\n",
       "      <th>WeightKg</th>\n",
       "      <th>WeightPounds</th>\n",
       "      <th>Fat</th>\n",
       "      <th>BMI</th>\n",
       "      <th>IsManualReport</th>\n",
       "      <th>LogId</th>\n",
       "    </tr>\n",
       "    <tr>\n",
       "      <th>Id</th>\n",
       "      <th></th>\n",
       "      <th></th>\n",
       "      <th></th>\n",
       "      <th></th>\n",
       "      <th></th>\n",
       "      <th></th>\n",
       "      <th></th>\n",
       "    </tr>\n",
       "  </thead>\n",
       "  <tbody>\n",
       "    <tr>\n",
       "      <th>1503960366</th>\n",
       "      <td>5/2/2016 11:59:59 PM</td>\n",
       "      <td>52.599998</td>\n",
       "      <td>115.963147</td>\n",
       "      <td>22.0</td>\n",
       "      <td>22.650000</td>\n",
       "      <td>True</td>\n",
       "      <td>1462233599000</td>\n",
       "    </tr>\n",
       "    <tr>\n",
       "      <th>1503960366</th>\n",
       "      <td>5/3/2016 11:59:59 PM</td>\n",
       "      <td>52.599998</td>\n",
       "      <td>115.963147</td>\n",
       "      <td>NaN</td>\n",
       "      <td>22.650000</td>\n",
       "      <td>True</td>\n",
       "      <td>1462319999000</td>\n",
       "    </tr>\n",
       "    <tr>\n",
       "      <th>1927972279</th>\n",
       "      <td>4/13/2016 1:08:52 AM</td>\n",
       "      <td>133.500000</td>\n",
       "      <td>294.317120</td>\n",
       "      <td>NaN</td>\n",
       "      <td>47.540001</td>\n",
       "      <td>False</td>\n",
       "      <td>1460509732000</td>\n",
       "    </tr>\n",
       "    <tr>\n",
       "      <th>2873212765</th>\n",
       "      <td>4/21/2016 11:59:59 PM</td>\n",
       "      <td>56.700001</td>\n",
       "      <td>125.002104</td>\n",
       "      <td>NaN</td>\n",
       "      <td>21.450001</td>\n",
       "      <td>True</td>\n",
       "      <td>1461283199000</td>\n",
       "    </tr>\n",
       "    <tr>\n",
       "      <th>2873212765</th>\n",
       "      <td>5/12/2016 11:59:59 PM</td>\n",
       "      <td>57.299999</td>\n",
       "      <td>126.324875</td>\n",
       "      <td>NaN</td>\n",
       "      <td>21.690001</td>\n",
       "      <td>True</td>\n",
       "      <td>1463097599000</td>\n",
       "    </tr>\n",
       "  </tbody>\n",
       "</table>\n",
       "</div>"
      ],
      "text/plain": [
       "                             Date    WeightKg  WeightPounds   Fat        BMI  \\\n",
       "Id                                                                             \n",
       "1503960366   5/2/2016 11:59:59 PM   52.599998    115.963147  22.0  22.650000   \n",
       "1503960366   5/3/2016 11:59:59 PM   52.599998    115.963147   NaN  22.650000   \n",
       "1927972279   4/13/2016 1:08:52 AM  133.500000    294.317120   NaN  47.540001   \n",
       "2873212765  4/21/2016 11:59:59 PM   56.700001    125.002104   NaN  21.450001   \n",
       "2873212765  5/12/2016 11:59:59 PM   57.299999    126.324875   NaN  21.690001   \n",
       "\n",
       "            IsManualReport          LogId  \n",
       "Id                                         \n",
       "1503960366            True  1462233599000  \n",
       "1503960366            True  1462319999000  \n",
       "1927972279           False  1460509732000  \n",
       "2873212765            True  1461283199000  \n",
       "2873212765            True  1463097599000  "
      ]
     },
     "execution_count": 4,
     "metadata": {},
     "output_type": "execute_result"
    }
   ],
   "source": [
    "df.head()"
   ]
  },
  {
   "cell_type": "code",
   "execution_count": 5,
   "metadata": {},
   "outputs": [
    {
     "data": {
      "text/plain": [
       "(67, 7)"
      ]
     },
     "execution_count": 5,
     "metadata": {},
     "output_type": "execute_result"
    }
   ],
   "source": [
    "# Check the shape of dataset\n",
    "df.shape"
   ]
  },
  {
   "cell_type": "markdown",
   "metadata": {},
   "source": [
    "### Remove null values if any ->"
   ]
  },
  {
   "cell_type": "code",
   "execution_count": 6,
   "metadata": {},
   "outputs": [
    {
     "data": {
      "text/plain": [
       "Date               0\n",
       "WeightKg           0\n",
       "WeightPounds       0\n",
       "Fat               65\n",
       "BMI                0\n",
       "IsManualReport     0\n",
       "LogId              0\n",
       "dtype: int64"
      ]
     },
     "execution_count": 6,
     "metadata": {},
     "output_type": "execute_result"
    }
   ],
   "source": [
    "# check if is there any null values in the dataset\n",
    "df.isnull().sum()"
   ]
  },
  {
   "cell_type": "code",
   "execution_count": 8,
   "metadata": {},
   "outputs": [],
   "source": [
    "# fat feature has some null values, we need to drop those\n",
    "df['Fat'] = df['Fat'].dropna()"
   ]
  },
  {
   "cell_type": "markdown",
   "metadata": {},
   "source": [
    "### Splitting of Date column in Date and Time Respectively ->"
   ]
  },
  {
   "cell_type": "code",
   "execution_count": 10,
   "metadata": {},
   "outputs": [],
   "source": [
    "# Define a function to split the ActivityHour column into ActivityDay and ActivityTime\n",
    "def split_activity_hour(df, column_name='Date'):\n",
    "    # Split the column into two parts: Date and Time\n",
    "    split_columns = df[column_name].str.split(' ', expand=True)\n",
    "    # Assign the split columns to the dataframe\n",
    "    df['ActivityDay'] = pd.to_datetime(split_columns[0])  # Convert to datetime format\n",
    "    df['ActivityTime'] = split_columns[1]\n",
    "    # Drop the original ActivityHour column\n",
    "    df.drop(column_name, axis=1, inplace=True)\n",
    "    return df"
   ]
  },
  {
   "cell_type": "code",
   "execution_count": 11,
   "metadata": {},
   "outputs": [
    {
     "data": {
      "text/html": [
       "<div>\n",
       "<style scoped>\n",
       "    .dataframe tbody tr th:only-of-type {\n",
       "        vertical-align: middle;\n",
       "    }\n",
       "\n",
       "    .dataframe tbody tr th {\n",
       "        vertical-align: top;\n",
       "    }\n",
       "\n",
       "    .dataframe thead th {\n",
       "        text-align: right;\n",
       "    }\n",
       "</style>\n",
       "<table border=\"1\" class=\"dataframe\">\n",
       "  <thead>\n",
       "    <tr style=\"text-align: right;\">\n",
       "      <th></th>\n",
       "      <th>WeightKg</th>\n",
       "      <th>WeightPounds</th>\n",
       "      <th>Fat</th>\n",
       "      <th>BMI</th>\n",
       "      <th>IsManualReport</th>\n",
       "      <th>LogId</th>\n",
       "      <th>ActivityDay</th>\n",
       "      <th>ActivityTime</th>\n",
       "    </tr>\n",
       "    <tr>\n",
       "      <th>Id</th>\n",
       "      <th></th>\n",
       "      <th></th>\n",
       "      <th></th>\n",
       "      <th></th>\n",
       "      <th></th>\n",
       "      <th></th>\n",
       "      <th></th>\n",
       "      <th></th>\n",
       "    </tr>\n",
       "  </thead>\n",
       "  <tbody>\n",
       "    <tr>\n",
       "      <th>1503960366</th>\n",
       "      <td>52.599998</td>\n",
       "      <td>115.963147</td>\n",
       "      <td>22.0</td>\n",
       "      <td>22.650000</td>\n",
       "      <td>True</td>\n",
       "      <td>1462233599000</td>\n",
       "      <td>2016-05-02</td>\n",
       "      <td>11:59:59</td>\n",
       "    </tr>\n",
       "    <tr>\n",
       "      <th>1503960366</th>\n",
       "      <td>52.599998</td>\n",
       "      <td>115.963147</td>\n",
       "      <td>22.0</td>\n",
       "      <td>22.650000</td>\n",
       "      <td>True</td>\n",
       "      <td>1462319999000</td>\n",
       "      <td>2016-05-03</td>\n",
       "      <td>11:59:59</td>\n",
       "    </tr>\n",
       "    <tr>\n",
       "      <th>1927972279</th>\n",
       "      <td>133.500000</td>\n",
       "      <td>294.317120</td>\n",
       "      <td>NaN</td>\n",
       "      <td>47.540001</td>\n",
       "      <td>False</td>\n",
       "      <td>1460509732000</td>\n",
       "      <td>2016-04-13</td>\n",
       "      <td>1:08:52</td>\n",
       "    </tr>\n",
       "    <tr>\n",
       "      <th>2873212765</th>\n",
       "      <td>56.700001</td>\n",
       "      <td>125.002104</td>\n",
       "      <td>NaN</td>\n",
       "      <td>21.450001</td>\n",
       "      <td>True</td>\n",
       "      <td>1461283199000</td>\n",
       "      <td>2016-04-21</td>\n",
       "      <td>11:59:59</td>\n",
       "    </tr>\n",
       "    <tr>\n",
       "      <th>2873212765</th>\n",
       "      <td>57.299999</td>\n",
       "      <td>126.324875</td>\n",
       "      <td>NaN</td>\n",
       "      <td>21.690001</td>\n",
       "      <td>True</td>\n",
       "      <td>1463097599000</td>\n",
       "      <td>2016-05-12</td>\n",
       "      <td>11:59:59</td>\n",
       "    </tr>\n",
       "  </tbody>\n",
       "</table>\n",
       "</div>"
      ],
      "text/plain": [
       "              WeightKg  WeightPounds   Fat        BMI  IsManualReport  \\\n",
       "Id                                                                      \n",
       "1503960366   52.599998    115.963147  22.0  22.650000            True   \n",
       "1503960366   52.599998    115.963147  22.0  22.650000            True   \n",
       "1927972279  133.500000    294.317120   NaN  47.540001           False   \n",
       "2873212765   56.700001    125.002104   NaN  21.450001            True   \n",
       "2873212765   57.299999    126.324875   NaN  21.690001            True   \n",
       "\n",
       "                    LogId ActivityDay ActivityTime  \n",
       "Id                                                  \n",
       "1503960366  1462233599000  2016-05-02     11:59:59  \n",
       "1503960366  1462319999000  2016-05-03     11:59:59  \n",
       "1927972279  1460509732000  2016-04-13      1:08:52  \n",
       "2873212765  1461283199000  2016-04-21     11:59:59  \n",
       "2873212765  1463097599000  2016-05-12     11:59:59  "
      ]
     },
     "execution_count": 11,
     "metadata": {},
     "output_type": "execute_result"
    }
   ],
   "source": [
    "# Apply the function to each dataset\n",
    "df = split_activity_hour(df)\n",
    "df.head()"
   ]
  },
  {
   "cell_type": "markdown",
   "metadata": {},
   "source": [
    "### Standerdize the column names ->"
   ]
  },
  {
   "cell_type": "code",
   "execution_count": 12,
   "metadata": {},
   "outputs": [
    {
     "data": {
      "text/html": [
       "<div>\n",
       "<style scoped>\n",
       "    .dataframe tbody tr th:only-of-type {\n",
       "        vertical-align: middle;\n",
       "    }\n",
       "\n",
       "    .dataframe tbody tr th {\n",
       "        vertical-align: top;\n",
       "    }\n",
       "\n",
       "    .dataframe thead th {\n",
       "        text-align: right;\n",
       "    }\n",
       "</style>\n",
       "<table border=\"1\" class=\"dataframe\">\n",
       "  <thead>\n",
       "    <tr style=\"text-align: right;\">\n",
       "      <th></th>\n",
       "      <th>weightkg</th>\n",
       "      <th>weightpounds</th>\n",
       "      <th>fat</th>\n",
       "      <th>bmi</th>\n",
       "      <th>ismanualreport</th>\n",
       "      <th>logid</th>\n",
       "      <th>activityday</th>\n",
       "      <th>activitytime</th>\n",
       "    </tr>\n",
       "    <tr>\n",
       "      <th>Id</th>\n",
       "      <th></th>\n",
       "      <th></th>\n",
       "      <th></th>\n",
       "      <th></th>\n",
       "      <th></th>\n",
       "      <th></th>\n",
       "      <th></th>\n",
       "      <th></th>\n",
       "    </tr>\n",
       "  </thead>\n",
       "  <tbody>\n",
       "    <tr>\n",
       "      <th>1503960366</th>\n",
       "      <td>52.599998</td>\n",
       "      <td>115.963147</td>\n",
       "      <td>22.0</td>\n",
       "      <td>22.650000</td>\n",
       "      <td>True</td>\n",
       "      <td>1462233599000</td>\n",
       "      <td>2016-05-02</td>\n",
       "      <td>11:59:59</td>\n",
       "    </tr>\n",
       "    <tr>\n",
       "      <th>1503960366</th>\n",
       "      <td>52.599998</td>\n",
       "      <td>115.963147</td>\n",
       "      <td>22.0</td>\n",
       "      <td>22.650000</td>\n",
       "      <td>True</td>\n",
       "      <td>1462319999000</td>\n",
       "      <td>2016-05-03</td>\n",
       "      <td>11:59:59</td>\n",
       "    </tr>\n",
       "    <tr>\n",
       "      <th>1927972279</th>\n",
       "      <td>133.500000</td>\n",
       "      <td>294.317120</td>\n",
       "      <td>NaN</td>\n",
       "      <td>47.540001</td>\n",
       "      <td>False</td>\n",
       "      <td>1460509732000</td>\n",
       "      <td>2016-04-13</td>\n",
       "      <td>1:08:52</td>\n",
       "    </tr>\n",
       "    <tr>\n",
       "      <th>2873212765</th>\n",
       "      <td>56.700001</td>\n",
       "      <td>125.002104</td>\n",
       "      <td>NaN</td>\n",
       "      <td>21.450001</td>\n",
       "      <td>True</td>\n",
       "      <td>1461283199000</td>\n",
       "      <td>2016-04-21</td>\n",
       "      <td>11:59:59</td>\n",
       "    </tr>\n",
       "    <tr>\n",
       "      <th>2873212765</th>\n",
       "      <td>57.299999</td>\n",
       "      <td>126.324875</td>\n",
       "      <td>NaN</td>\n",
       "      <td>21.690001</td>\n",
       "      <td>True</td>\n",
       "      <td>1463097599000</td>\n",
       "      <td>2016-05-12</td>\n",
       "      <td>11:59:59</td>\n",
       "    </tr>\n",
       "  </tbody>\n",
       "</table>\n",
       "</div>"
      ],
      "text/plain": [
       "              weightkg  weightpounds   fat        bmi  ismanualreport  \\\n",
       "Id                                                                      \n",
       "1503960366   52.599998    115.963147  22.0  22.650000            True   \n",
       "1503960366   52.599998    115.963147  22.0  22.650000            True   \n",
       "1927972279  133.500000    294.317120   NaN  47.540001           False   \n",
       "2873212765   56.700001    125.002104   NaN  21.450001            True   \n",
       "2873212765   57.299999    126.324875   NaN  21.690001            True   \n",
       "\n",
       "                    logid activityday activitytime  \n",
       "Id                                                  \n",
       "1503960366  1462233599000  2016-05-02     11:59:59  \n",
       "1503960366  1462319999000  2016-05-03     11:59:59  \n",
       "1927972279  1460509732000  2016-04-13      1:08:52  \n",
       "2873212765  1461283199000  2016-04-21     11:59:59  \n",
       "2873212765  1463097599000  2016-05-12     11:59:59  "
      ]
     },
     "execution_count": 12,
     "metadata": {},
     "output_type": "execute_result"
    }
   ],
   "source": [
    "# Standardize column names\n",
    "df.columns = df.columns.str.lower().str.replace(r'([a-z])([A-Z])', r'\\1_\\2').str.replace(r'[^a-z0-9_]', '', regex=True)\n",
    "\n",
    "# Display the first few rows of the dataframe to verify the new column names\n",
    "df.head()"
   ]
  },
  {
   "cell_type": "markdown",
   "metadata": {},
   "source": [
    "### Rearrange the position of 'activityday' and 'activitytime' column ->"
   ]
  },
  {
   "cell_type": "code",
   "execution_count": 13,
   "metadata": {},
   "outputs": [
    {
     "data": {
      "text/html": [
       "<div>\n",
       "<style scoped>\n",
       "    .dataframe tbody tr th:only-of-type {\n",
       "        vertical-align: middle;\n",
       "    }\n",
       "\n",
       "    .dataframe tbody tr th {\n",
       "        vertical-align: top;\n",
       "    }\n",
       "\n",
       "    .dataframe thead th {\n",
       "        text-align: right;\n",
       "    }\n",
       "</style>\n",
       "<table border=\"1\" class=\"dataframe\">\n",
       "  <thead>\n",
       "    <tr style=\"text-align: right;\">\n",
       "      <th></th>\n",
       "      <th>activityday</th>\n",
       "      <th>activitytime</th>\n",
       "      <th>weightkg</th>\n",
       "      <th>weightpounds</th>\n",
       "      <th>fat</th>\n",
       "      <th>bmi</th>\n",
       "      <th>ismanualreport</th>\n",
       "      <th>logid</th>\n",
       "    </tr>\n",
       "    <tr>\n",
       "      <th>Id</th>\n",
       "      <th></th>\n",
       "      <th></th>\n",
       "      <th></th>\n",
       "      <th></th>\n",
       "      <th></th>\n",
       "      <th></th>\n",
       "      <th></th>\n",
       "      <th></th>\n",
       "    </tr>\n",
       "  </thead>\n",
       "  <tbody>\n",
       "    <tr>\n",
       "      <th>1503960366</th>\n",
       "      <td>2016-05-02</td>\n",
       "      <td>11:59:59</td>\n",
       "      <td>52.599998</td>\n",
       "      <td>115.963147</td>\n",
       "      <td>22.0</td>\n",
       "      <td>22.650000</td>\n",
       "      <td>True</td>\n",
       "      <td>1462233599000</td>\n",
       "    </tr>\n",
       "    <tr>\n",
       "      <th>1503960366</th>\n",
       "      <td>2016-05-03</td>\n",
       "      <td>11:59:59</td>\n",
       "      <td>52.599998</td>\n",
       "      <td>115.963147</td>\n",
       "      <td>22.0</td>\n",
       "      <td>22.650000</td>\n",
       "      <td>True</td>\n",
       "      <td>1462319999000</td>\n",
       "    </tr>\n",
       "    <tr>\n",
       "      <th>1927972279</th>\n",
       "      <td>2016-04-13</td>\n",
       "      <td>1:08:52</td>\n",
       "      <td>133.500000</td>\n",
       "      <td>294.317120</td>\n",
       "      <td>NaN</td>\n",
       "      <td>47.540001</td>\n",
       "      <td>False</td>\n",
       "      <td>1460509732000</td>\n",
       "    </tr>\n",
       "    <tr>\n",
       "      <th>2873212765</th>\n",
       "      <td>2016-04-21</td>\n",
       "      <td>11:59:59</td>\n",
       "      <td>56.700001</td>\n",
       "      <td>125.002104</td>\n",
       "      <td>NaN</td>\n",
       "      <td>21.450001</td>\n",
       "      <td>True</td>\n",
       "      <td>1461283199000</td>\n",
       "    </tr>\n",
       "    <tr>\n",
       "      <th>2873212765</th>\n",
       "      <td>2016-05-12</td>\n",
       "      <td>11:59:59</td>\n",
       "      <td>57.299999</td>\n",
       "      <td>126.324875</td>\n",
       "      <td>NaN</td>\n",
       "      <td>21.690001</td>\n",
       "      <td>True</td>\n",
       "      <td>1463097599000</td>\n",
       "    </tr>\n",
       "  </tbody>\n",
       "</table>\n",
       "</div>"
      ],
      "text/plain": [
       "           activityday activitytime    weightkg  weightpounds   fat  \\\n",
       "Id                                                                    \n",
       "1503960366  2016-05-02     11:59:59   52.599998    115.963147  22.0   \n",
       "1503960366  2016-05-03     11:59:59   52.599998    115.963147  22.0   \n",
       "1927972279  2016-04-13      1:08:52  133.500000    294.317120   NaN   \n",
       "2873212765  2016-04-21     11:59:59   56.700001    125.002104   NaN   \n",
       "2873212765  2016-05-12     11:59:59   57.299999    126.324875   NaN   \n",
       "\n",
       "                  bmi  ismanualreport          logid  \n",
       "Id                                                    \n",
       "1503960366  22.650000            True  1462233599000  \n",
       "1503960366  22.650000            True  1462319999000  \n",
       "1927972279  47.540001           False  1460509732000  \n",
       "2873212765  21.450001            True  1461283199000  \n",
       "2873212765  21.690001            True  1463097599000  "
      ]
     },
     "execution_count": 13,
     "metadata": {},
     "output_type": "execute_result"
    }
   ],
   "source": [
    "# Rearrange the position of 'activityday' column to be adjacent to 'id' column\n",
    "cols = list(df.columns)\n",
    "cols.insert(0, cols.pop(cols.index('activityday')))  # Move 'activityday' and 'acivitytime' next to 'id'\n",
    "cols.insert(1, cols.pop(cols.index('activitytime'))) \n",
    "df = df[cols]\n",
    "\n",
    "# Display the first few rows of the dataframe to verify the rearrangement\n",
    "df.head()"
   ]
  },
  {
   "cell_type": "markdown",
   "metadata": {},
   "source": [
    "### Formattin the activityday column as datetime datatype ->"
   ]
  },
  {
   "cell_type": "code",
   "execution_count": 14,
   "metadata": {},
   "outputs": [
    {
     "name": "stdout",
     "output_type": "stream",
     "text": [
      "<class 'pandas.core.frame.DataFrame'>\n",
      "Index: 67 entries, 1503960366 to 8877689391\n",
      "Data columns (total 8 columns):\n",
      " #   Column          Non-Null Count  Dtype         \n",
      "---  ------          --------------  -----         \n",
      " 0   activityday     67 non-null     datetime64[ns]\n",
      " 1   activitytime    67 non-null     object        \n",
      " 2   weightkg        67 non-null     float64       \n",
      " 3   weightpounds    67 non-null     float64       \n",
      " 4   fat             4 non-null      float64       \n",
      " 5   bmi             67 non-null     float64       \n",
      " 6   ismanualreport  67 non-null     bool          \n",
      " 7   logid           67 non-null     int64         \n",
      "dtypes: bool(1), datetime64[ns](1), float64(4), int64(1), object(1)\n",
      "memory usage: 4.3+ KB\n"
     ]
    }
   ],
   "source": [
    "# Convert 'activityday' and to datetime format\n",
    "df['activityday'] = pd.to_datetime(df['activityday'], format='%d-%m-%Y')\n",
    "df.info()"
   ]
  },
  {
   "cell_type": "markdown",
   "metadata": {},
   "source": [
    "### Remove Duplicate values if any ->"
   ]
  },
  {
   "cell_type": "code",
   "execution_count": 15,
   "metadata": {},
   "outputs": [
    {
     "data": {
      "text/plain": [
       "0"
      ]
     },
     "execution_count": 15,
     "metadata": {},
     "output_type": "execute_result"
    }
   ],
   "source": [
    "# chek if is there any duplicate values in dataset\n",
    "duplicates = duplicates = df.duplicated().sum()\n",
    "duplicates"
   ]
  },
  {
   "cell_type": "markdown",
   "metadata": {},
   "source": [
    "### Export the Dataset ->"
   ]
  },
  {
   "cell_type": "code",
   "execution_count": 16,
   "metadata": {},
   "outputs": [],
   "source": [
    "df.to_csv(\"G:\\My Drive\\Prepinsta - Data Analytics\\Week 8 - Task 8\\Master Datasets\\weightLog_data.csv\")"
   ]
  },
  {
   "cell_type": "code",
   "execution_count": null,
   "metadata": {},
   "outputs": [],
   "source": []
  }
 ],
 "metadata": {
  "kernelspec": {
   "display_name": "base",
   "language": "python",
   "name": "python3"
  },
  "language_info": {
   "codemirror_mode": {
    "name": "ipython",
    "version": 3
   },
   "file_extension": ".py",
   "mimetype": "text/x-python",
   "name": "python",
   "nbconvert_exporter": "python",
   "pygments_lexer": "ipython3",
   "version": "3.11.5"
  }
 },
 "nbformat": 4,
 "nbformat_minor": 2
}
