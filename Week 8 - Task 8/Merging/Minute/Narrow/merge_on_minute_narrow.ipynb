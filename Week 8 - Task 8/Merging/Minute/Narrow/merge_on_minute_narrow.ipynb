{
 "cells": [
  {
   "cell_type": "markdown",
   "metadata": {},
   "source": [
    "# Objective : Data Merging (minute - narrow)"
   ]
  },
  {
   "cell_type": "markdown",
   "metadata": {},
   "source": [
    "### Importing Required Libraries ->"
   ]
  },
  {
   "cell_type": "code",
   "execution_count": 1,
   "metadata": {},
   "outputs": [],
   "source": [
    "import pandas as pd\n",
    "import numpy as np \n",
    "import matplotlib.pyplot as plt \n",
    "import seaborn as sns"
   ]
  },
  {
   "cell_type": "markdown",
   "metadata": {},
   "source": [
    "### Load the Datasets ->"
   ]
  },
  {
   "cell_type": "code",
   "execution_count": 2,
   "metadata": {},
   "outputs": [],
   "source": [
    "# Load datasets\n",
    "minute_calories = pd.read_csv('minuteCaloriesNarrow_merged.csv')\n",
    "minute_intensities = pd.read_csv('minuteIntensitiesNarrow_merged.csv')\n",
    "minute_mets = pd.read_csv('minuteMETsNarrow_merged.csv')\n",
    "minute_steps = pd.read_csv('minuteStepsNarrow_merged.csv')"
   ]
  },
  {
   "cell_type": "markdown",
   "metadata": {},
   "source": [
    "### Preview the Datasets ->"
   ]
  },
  {
   "cell_type": "code",
   "execution_count": 3,
   "metadata": {},
   "outputs": [
    {
     "name": "stdout",
     "output_type": "stream",
     "text": [
      "MINUTE_CALORIES:\n",
      "           Id         ActivityMinute  Calories\n",
      "0  1503960366  4/12/2016 12:00:00 AM    0.7865\n",
      "1  1503960366  4/12/2016 12:01:00 AM    0.7865\n",
      "2  1503960366  4/12/2016 12:02:00 AM    0.7865\n",
      "3  1503960366  4/12/2016 12:03:00 AM    0.7865\n",
      "4  1503960366  4/12/2016 12:04:00 AM    0.7865\n",
      "['Id', 'ActivityMinute', 'Calories']\n",
      "\n",
      "\n",
      "MINUTE_INTENSITIES:\n",
      "           Id         ActivityMinute  Intensity\n",
      "0  1503960366  4/12/2016 12:00:00 AM          0\n",
      "1  1503960366  4/12/2016 12:01:00 AM          0\n",
      "2  1503960366  4/12/2016 12:02:00 AM          0\n",
      "3  1503960366  4/12/2016 12:03:00 AM          0\n",
      "4  1503960366  4/12/2016 12:04:00 AM          0\n",
      "['Id', 'ActivityMinute', 'Intensity']\n",
      "\n",
      "\n",
      "MINUTE_METS:\n",
      "           Id         ActivityMinute  METs\n",
      "0  1503960366  4/12/2016 12:00:00 AM    10\n",
      "1  1503960366  4/12/2016 12:01:00 AM    10\n",
      "2  1503960366  4/12/2016 12:02:00 AM    10\n",
      "3  1503960366  4/12/2016 12:03:00 AM    10\n",
      "4  1503960366  4/12/2016 12:04:00 AM    10\n",
      "['Id', 'ActivityMinute', 'METs']\n",
      "\n",
      "\n",
      "MINUTE_STEPS:\n",
      "           Id         ActivityMinute  Steps\n",
      "0  1503960366  4/12/2016 12:00:00 AM      0\n",
      "1  1503960366  4/12/2016 12:01:00 AM      0\n",
      "2  1503960366  4/12/2016 12:02:00 AM      0\n",
      "3  1503960366  4/12/2016 12:03:00 AM      0\n",
      "4  1503960366  4/12/2016 12:04:00 AM      0\n",
      "['Id', 'ActivityMinute', 'Steps']\n",
      "\n",
      "\n"
     ]
    }
   ],
   "source": [
    "# Inspect the first few rows and the column names of each dataset\n",
    "datasets = [minute_calories, minute_intensities, minute_mets, minute_steps]\n",
    "dataset_names = ['minute_calories', 'minute_intensities', 'minute_mets', 'minute_steps']\n",
    "\n",
    "for name, dataset in zip(dataset_names, datasets):\n",
    "    print(f\"{name.upper()}:\")\n",
    "    print(dataset.head())\n",
    "    print(dataset.columns.tolist())\n",
    "    print(\"\\n\")"
   ]
  },
  {
   "cell_type": "code",
   "execution_count": 4,
   "metadata": {},
   "outputs": [
    {
     "name": "stdout",
     "output_type": "stream",
     "text": [
      "(1325580, 3)\n",
      "(1325580, 3)\n",
      "(1325580, 3)\n",
      "(1325580, 3)\n"
     ]
    }
   ],
   "source": [
    "# Enusure the shape of dataset before merging\n",
    "print(minute_calories.shape)\n",
    "print(minute_intensities.shape)\n",
    "print(minute_mets.shape)\n",
    "print(minute_steps.shape)"
   ]
  },
  {
   "cell_type": "markdown",
   "metadata": {},
   "source": [
    "### Merging the Datasets ->"
   ]
  },
  {
   "cell_type": "code",
   "execution_count": 5,
   "metadata": {},
   "outputs": [
    {
     "name": "stdout",
     "output_type": "stream",
     "text": [
      "{'Number of rows': 1325580, 'Number of columns': 6, 'Number of duplicates': 0}\n"
     ]
    },
    {
     "data": {
      "text/html": [
       "<div>\n",
       "<style scoped>\n",
       "    .dataframe tbody tr th:only-of-type {\n",
       "        vertical-align: middle;\n",
       "    }\n",
       "\n",
       "    .dataframe tbody tr th {\n",
       "        vertical-align: top;\n",
       "    }\n",
       "\n",
       "    .dataframe thead th {\n",
       "        text-align: right;\n",
       "    }\n",
       "</style>\n",
       "<table border=\"1\" class=\"dataframe\">\n",
       "  <thead>\n",
       "    <tr style=\"text-align: right;\">\n",
       "      <th></th>\n",
       "      <th>Id</th>\n",
       "      <th>ActivityMinute</th>\n",
       "      <th>Calories</th>\n",
       "      <th>Intensity</th>\n",
       "      <th>METs</th>\n",
       "      <th>Steps</th>\n",
       "    </tr>\n",
       "  </thead>\n",
       "  <tbody>\n",
       "    <tr>\n",
       "      <th>0</th>\n",
       "      <td>1503960366</td>\n",
       "      <td>4/12/2016 12:00:00 AM</td>\n",
       "      <td>0.7865</td>\n",
       "      <td>0</td>\n",
       "      <td>10</td>\n",
       "      <td>0</td>\n",
       "    </tr>\n",
       "    <tr>\n",
       "      <th>1</th>\n",
       "      <td>1503960366</td>\n",
       "      <td>4/12/2016 12:01:00 AM</td>\n",
       "      <td>0.7865</td>\n",
       "      <td>0</td>\n",
       "      <td>10</td>\n",
       "      <td>0</td>\n",
       "    </tr>\n",
       "    <tr>\n",
       "      <th>2</th>\n",
       "      <td>1503960366</td>\n",
       "      <td>4/12/2016 12:02:00 AM</td>\n",
       "      <td>0.7865</td>\n",
       "      <td>0</td>\n",
       "      <td>10</td>\n",
       "      <td>0</td>\n",
       "    </tr>\n",
       "    <tr>\n",
       "      <th>3</th>\n",
       "      <td>1503960366</td>\n",
       "      <td>4/12/2016 12:03:00 AM</td>\n",
       "      <td>0.7865</td>\n",
       "      <td>0</td>\n",
       "      <td>10</td>\n",
       "      <td>0</td>\n",
       "    </tr>\n",
       "    <tr>\n",
       "      <th>4</th>\n",
       "      <td>1503960366</td>\n",
       "      <td>4/12/2016 12:04:00 AM</td>\n",
       "      <td>0.7865</td>\n",
       "      <td>0</td>\n",
       "      <td>10</td>\n",
       "      <td>0</td>\n",
       "    </tr>\n",
       "  </tbody>\n",
       "</table>\n",
       "</div>"
      ],
      "text/plain": [
       "           Id         ActivityMinute  Calories  Intensity  METs  Steps\n",
       "0  1503960366  4/12/2016 12:00:00 AM    0.7865          0    10      0\n",
       "1  1503960366  4/12/2016 12:01:00 AM    0.7865          0    10      0\n",
       "2  1503960366  4/12/2016 12:02:00 AM    0.7865          0    10      0\n",
       "3  1503960366  4/12/2016 12:03:00 AM    0.7865          0    10      0\n",
       "4  1503960366  4/12/2016 12:04:00 AM    0.7865          0    10      0"
      ]
     },
     "execution_count": 5,
     "metadata": {},
     "output_type": "execute_result"
    }
   ],
   "source": [
    "# Merge datasets: Start with minutely_calories as the base, then merge others one by one\n",
    "# Using an outer join to ensure no data is missed\n",
    "minute_merged_data_narrow = minute_calories.merge(minute_intensities, on=['Id', 'ActivityMinute'], how='outer', suffixes=('', '_intensities'))\n",
    "\n",
    "# Merging minutely_mets\n",
    "minute_merged_data_narrow = minute_merged_data_narrow.merge(minute_mets, on=['Id', 'ActivityMinute'], how='outer', suffixes=('', '_mets'))\n",
    "\n",
    "# Merging minutely_steps\n",
    "minute_merged_data_narrow = minute_merged_data_narrow.merge(minute_steps, on=['Id', 'ActivityMinute'], how='outer', suffixes=('', '_steps'))\n",
    "\n",
    "# Check for duplicates based on Id and ActivityDay\n",
    "duplicates = minute_merged_data_narrow.duplicated(subset=['Id', 'ActivityMinute'], keep='first').sum()\n",
    "\n",
    "# Overview of the merged dataset\n",
    "merged_overview = {\n",
    "    'Number of rows': minute_merged_data_narrow.shape[0],\n",
    "    'Number of columns': minute_merged_data_narrow.shape[1],\n",
    "    'Number of duplicates': duplicates\n",
    "}\n",
    "\n",
    "print(merged_overview)\n",
    "minute_merged_data_narrow.head()"
   ]
  },
  {
   "cell_type": "code",
   "execution_count": 6,
   "metadata": {},
   "outputs": [],
   "source": [
    "# Define a function to split the ActivityHour column into ActivityDay and ActivityTime\n",
    "def split_activity_minute(df, column_name='ActivityMinute'):\n",
    "    # Split the column into two parts: Date and Time\n",
    "    split_columns = df[column_name].str.split(' ', expand=True)\n",
    "    # Assign the split columns to the dataframe\n",
    "    df['ActivityDay'] = pd.to_datetime(split_columns[0])  # Convert to datetime format\n",
    "    df['ActivityTime'] = split_columns[1]\n",
    "    # Drop the original ActivityHour column\n",
    "    df.drop(column_name, axis=1, inplace=True)\n",
    "    return df"
   ]
  },
  {
   "cell_type": "code",
   "execution_count": 7,
   "metadata": {},
   "outputs": [],
   "source": [
    "# Apply the function to each dataset\n",
    "minute_merged_data_narrow = split_activity_minute(minute_merged_data_narrow)"
   ]
  },
  {
   "cell_type": "code",
   "execution_count": 8,
   "metadata": {},
   "outputs": [
    {
     "data": {
      "text/html": [
       "<div>\n",
       "<style scoped>\n",
       "    .dataframe tbody tr th:only-of-type {\n",
       "        vertical-align: middle;\n",
       "    }\n",
       "\n",
       "    .dataframe tbody tr th {\n",
       "        vertical-align: top;\n",
       "    }\n",
       "\n",
       "    .dataframe thead th {\n",
       "        text-align: right;\n",
       "    }\n",
       "</style>\n",
       "<table border=\"1\" class=\"dataframe\">\n",
       "  <thead>\n",
       "    <tr style=\"text-align: right;\">\n",
       "      <th></th>\n",
       "      <th>Id</th>\n",
       "      <th>Calories</th>\n",
       "      <th>Intensity</th>\n",
       "      <th>METs</th>\n",
       "      <th>Steps</th>\n",
       "      <th>ActivityDay</th>\n",
       "      <th>ActivityTime</th>\n",
       "    </tr>\n",
       "  </thead>\n",
       "  <tbody>\n",
       "    <tr>\n",
       "      <th>0</th>\n",
       "      <td>1503960366</td>\n",
       "      <td>0.7865</td>\n",
       "      <td>0</td>\n",
       "      <td>10</td>\n",
       "      <td>0</td>\n",
       "      <td>2016-04-12</td>\n",
       "      <td>12:00:00</td>\n",
       "    </tr>\n",
       "    <tr>\n",
       "      <th>1</th>\n",
       "      <td>1503960366</td>\n",
       "      <td>0.7865</td>\n",
       "      <td>0</td>\n",
       "      <td>10</td>\n",
       "      <td>0</td>\n",
       "      <td>2016-04-12</td>\n",
       "      <td>12:01:00</td>\n",
       "    </tr>\n",
       "    <tr>\n",
       "      <th>2</th>\n",
       "      <td>1503960366</td>\n",
       "      <td>0.7865</td>\n",
       "      <td>0</td>\n",
       "      <td>10</td>\n",
       "      <td>0</td>\n",
       "      <td>2016-04-12</td>\n",
       "      <td>12:02:00</td>\n",
       "    </tr>\n",
       "    <tr>\n",
       "      <th>3</th>\n",
       "      <td>1503960366</td>\n",
       "      <td>0.7865</td>\n",
       "      <td>0</td>\n",
       "      <td>10</td>\n",
       "      <td>0</td>\n",
       "      <td>2016-04-12</td>\n",
       "      <td>12:03:00</td>\n",
       "    </tr>\n",
       "    <tr>\n",
       "      <th>4</th>\n",
       "      <td>1503960366</td>\n",
       "      <td>0.7865</td>\n",
       "      <td>0</td>\n",
       "      <td>10</td>\n",
       "      <td>0</td>\n",
       "      <td>2016-04-12</td>\n",
       "      <td>12:04:00</td>\n",
       "    </tr>\n",
       "  </tbody>\n",
       "</table>\n",
       "</div>"
      ],
      "text/plain": [
       "           Id  Calories  Intensity  METs  Steps ActivityDay ActivityTime\n",
       "0  1503960366    0.7865          0    10      0  2016-04-12     12:00:00\n",
       "1  1503960366    0.7865          0    10      0  2016-04-12     12:01:00\n",
       "2  1503960366    0.7865          0    10      0  2016-04-12     12:02:00\n",
       "3  1503960366    0.7865          0    10      0  2016-04-12     12:03:00\n",
       "4  1503960366    0.7865          0    10      0  2016-04-12     12:04:00"
      ]
     },
     "execution_count": 8,
     "metadata": {},
     "output_type": "execute_result"
    }
   ],
   "source": [
    "minute_merged_data_narrow.head()"
   ]
  },
  {
   "cell_type": "markdown",
   "metadata": {},
   "source": [
    "### Exporting the Dataset ->"
   ]
  },
  {
   "cell_type": "code",
   "execution_count": 9,
   "metadata": {},
   "outputs": [],
   "source": [
    "minute_merged_data_narrow.to_csv(\"minute_merged_data_narrow.csv\")"
   ]
  },
  {
   "cell_type": "markdown",
   "metadata": {},
   "source": []
  }
 ],
 "metadata": {
  "kernelspec": {
   "display_name": "base",
   "language": "python",
   "name": "python3"
  },
  "language_info": {
   "codemirror_mode": {
    "name": "ipython",
    "version": 3
   },
   "file_extension": ".py",
   "mimetype": "text/x-python",
   "name": "python",
   "nbconvert_exporter": "python",
   "pygments_lexer": "ipython3",
   "version": "3.11.5"
  }
 },
 "nbformat": 4,
 "nbformat_minor": 2
}
