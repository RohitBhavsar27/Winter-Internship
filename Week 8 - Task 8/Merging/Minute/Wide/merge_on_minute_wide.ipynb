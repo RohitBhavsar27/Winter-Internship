{
 "cells": [
  {
   "cell_type": "markdown",
   "metadata": {},
   "source": [
    "# Objective : Data Merging and Melting (minute - wide)"
   ]
  },
  {
   "cell_type": "markdown",
   "metadata": {},
   "source": [
    "### Importing Required Libraries ->"
   ]
  },
  {
   "cell_type": "code",
   "execution_count": 1,
   "metadata": {},
   "outputs": [],
   "source": [
    "import pandas as pd\n",
    "import numpy as np \n",
    "import matplotlib.pyplot as plt \n",
    "import seaborn as sns"
   ]
  },
  {
   "cell_type": "markdown",
   "metadata": {},
   "source": [
    "### Load the Datasets ->"
   ]
  },
  {
   "cell_type": "code",
   "execution_count": 2,
   "metadata": {},
   "outputs": [],
   "source": [
    "# Load datasets\n",
    "minute_calories = pd.read_csv('minuteCaloriesWide_merged.csv')\n",
    "minute_intensities = pd.read_csv('minuteIntensitiesWide_merged.csv')\n",
    "minute_steps = pd.read_csv('minuteStepsWide_merged.csv')"
   ]
  },
  {
   "cell_type": "markdown",
   "metadata": {},
   "source": [
    "### Preview the Datasets ->"
   ]
  },
  {
   "cell_type": "code",
   "execution_count": 3,
   "metadata": {},
   "outputs": [
    {
     "name": "stdout",
     "output_type": "stream",
     "text": [
      "MINUTE_CALORIES:\n",
      "           Id           ActivityHour  Calories00  Calories01  Calories02  \\\n",
      "0  1503960366  4/13/2016 12:00:00 AM      1.8876      2.2022      0.9438   \n",
      "1  1503960366   4/13/2016 1:00:00 AM      0.7865      0.7865      0.7865   \n",
      "2  1503960366   4/13/2016 2:00:00 AM      0.7865      0.7865      0.7865   \n",
      "3  1503960366   4/13/2016 3:00:00 AM      0.7865      0.7865      0.7865   \n",
      "4  1503960366   4/13/2016 4:00:00 AM      0.7865      0.7865      0.7865   \n",
      "\n",
      "   Calories03  Calories04  Calories05  Calories06  Calories07  ...  \\\n",
      "0      0.9438      0.9438      2.0449      0.9438      2.2022  ...   \n",
      "1      0.7865      0.9438      0.9438      0.9438      0.7865  ...   \n",
      "2      0.7865      0.7865      0.7865      0.7865      0.7865  ...   \n",
      "3      0.7865      0.7865      0.7865      0.7865      0.7865  ...   \n",
      "4      0.7865      0.7865      0.7865      0.7865      0.7865  ...   \n",
      "\n",
      "   Calories50  Calories51  Calories52  Calories53  Calories54  Calories55  \\\n",
      "0      0.9438      2.0449      2.0449      0.9438      2.3595      1.8876   \n",
      "1      0.7865      0.7865      0.7865      0.7865      0.7865      0.7865   \n",
      "2      0.7865      0.7865      0.7865      0.7865      0.7865      0.7865   \n",
      "3      0.7865      0.7865      0.7865      0.7865      0.7865      0.7865   \n",
      "4      0.7865      0.7865      0.7865      0.7865      0.7865      0.7865   \n",
      "\n",
      "   Calories56  Calories57  Calories58  Calories59  \n",
      "0      0.9438      0.9438      0.9438      0.9438  \n",
      "1      0.7865      0.7865      0.7865      0.7865  \n",
      "2      0.7865      0.7865      0.7865      0.7865  \n",
      "3      0.7865      0.7865      0.7865      0.7865  \n",
      "4      0.7865      0.7865      0.7865      0.7865  \n",
      "\n",
      "[5 rows x 62 columns]\n",
      "['Id', 'ActivityHour', 'Calories00', 'Calories01', 'Calories02', 'Calories03', 'Calories04', 'Calories05', 'Calories06', 'Calories07', 'Calories08', 'Calories09', 'Calories10', 'Calories11', 'Calories12', 'Calories13', 'Calories14', 'Calories15', 'Calories16', 'Calories17', 'Calories18', 'Calories19', 'Calories20', 'Calories21', 'Calories22', 'Calories23', 'Calories24', 'Calories25', 'Calories26', 'Calories27', 'Calories28', 'Calories29', 'Calories30', 'Calories31', 'Calories32', 'Calories33', 'Calories34', 'Calories35', 'Calories36', 'Calories37', 'Calories38', 'Calories39', 'Calories40', 'Calories41', 'Calories42', 'Calories43', 'Calories44', 'Calories45', 'Calories46', 'Calories47', 'Calories48', 'Calories49', 'Calories50', 'Calories51', 'Calories52', 'Calories53', 'Calories54', 'Calories55', 'Calories56', 'Calories57', 'Calories58', 'Calories59']\n",
      "\n",
      "\n",
      "MINUTE_INTENSITIES:\n",
      "           Id           ActivityHour  Intensity00  Intensity01  Intensity02  \\\n",
      "0  1503960366  4/13/2016 12:00:00 AM            1            1            0   \n",
      "1  1503960366   4/13/2016 1:00:00 AM            0            0            0   \n",
      "2  1503960366   4/13/2016 2:00:00 AM            0            0            0   \n",
      "3  1503960366   4/13/2016 3:00:00 AM            0            0            0   \n",
      "4  1503960366   4/13/2016 4:00:00 AM            0            0            0   \n",
      "\n",
      "   Intensity03  Intensity04  Intensity05  Intensity06  Intensity07  ...  \\\n",
      "0            0            0            1            0            1  ...   \n",
      "1            0            0            0            0            0  ...   \n",
      "2            0            0            0            0            0  ...   \n",
      "3            0            0            0            0            0  ...   \n",
      "4            0            0            0            0            0  ...   \n",
      "\n",
      "   Intensity50  Intensity51  Intensity52  Intensity53  Intensity54  \\\n",
      "0            0            1            1            0            1   \n",
      "1            0            0            0            0            0   \n",
      "2            0            0            0            0            0   \n",
      "3            0            0            0            0            0   \n",
      "4            0            0            0            0            0   \n",
      "\n",
      "   Intensity55  Intensity56  Intensity57  Intensity58  Intensity59  \n",
      "0            1            0            0            0            0  \n",
      "1            0            0            0            0            0  \n",
      "2            0            0            0            0            0  \n",
      "3            0            0            0            0            0  \n",
      "4            0            0            0            0            0  \n",
      "\n",
      "[5 rows x 62 columns]\n",
      "['Id', 'ActivityHour', 'Intensity00', 'Intensity01', 'Intensity02', 'Intensity03', 'Intensity04', 'Intensity05', 'Intensity06', 'Intensity07', 'Intensity08', 'Intensity09', 'Intensity10', 'Intensity11', 'Intensity12', 'Intensity13', 'Intensity14', 'Intensity15', 'Intensity16', 'Intensity17', 'Intensity18', 'Intensity19', 'Intensity20', 'Intensity21', 'Intensity22', 'Intensity23', 'Intensity24', 'Intensity25', 'Intensity26', 'Intensity27', 'Intensity28', 'Intensity29', 'Intensity30', 'Intensity31', 'Intensity32', 'Intensity33', 'Intensity34', 'Intensity35', 'Intensity36', 'Intensity37', 'Intensity38', 'Intensity39', 'Intensity40', 'Intensity41', 'Intensity42', 'Intensity43', 'Intensity44', 'Intensity45', 'Intensity46', 'Intensity47', 'Intensity48', 'Intensity49', 'Intensity50', 'Intensity51', 'Intensity52', 'Intensity53', 'Intensity54', 'Intensity55', 'Intensity56', 'Intensity57', 'Intensity58', 'Intensity59']\n",
      "\n",
      "\n",
      "MINUTE_STEPS:\n",
      "           Id           ActivityHour  Steps00  Steps01  Steps02  Steps03  \\\n",
      "0  1503960366  4/13/2016 12:00:00 AM        4       16        0        0   \n",
      "1  1503960366   4/13/2016 1:00:00 AM        0        0        0        0   \n",
      "2  1503960366   4/13/2016 2:00:00 AM        0        0        0        0   \n",
      "3  1503960366   4/13/2016 3:00:00 AM        0        0        0        0   \n",
      "4  1503960366   4/13/2016 4:00:00 AM        0        0        0        0   \n",
      "\n",
      "   Steps04  Steps05  Steps06  Steps07  ...  Steps50  Steps51  Steps52  \\\n",
      "0        0        9        0       17  ...        0        9        8   \n",
      "1        0        0        0        0  ...        0        0        0   \n",
      "2        0        0        0        0  ...        0        0        0   \n",
      "3        0        0        0        0  ...        0        0        0   \n",
      "4        0        0        0        0  ...        0        0        0   \n",
      "\n",
      "   Steps53  Steps54  Steps55  Steps56  Steps57  Steps58  Steps59  \n",
      "0        0       20        1        0        0        0        0  \n",
      "1        0        0        0        0        0        0        0  \n",
      "2        0        0        0        0        0        0        0  \n",
      "3        0        0        0        0        0        0        0  \n",
      "4        0        0        0        0        0        0        0  \n",
      "\n",
      "[5 rows x 62 columns]\n",
      "['Id', 'ActivityHour', 'Steps00', 'Steps01', 'Steps02', 'Steps03', 'Steps04', 'Steps05', 'Steps06', 'Steps07', 'Steps08', 'Steps09', 'Steps10', 'Steps11', 'Steps12', 'Steps13', 'Steps14', 'Steps15', 'Steps16', 'Steps17', 'Steps18', 'Steps19', 'Steps20', 'Steps21', 'Steps22', 'Steps23', 'Steps24', 'Steps25', 'Steps26', 'Steps27', 'Steps28', 'Steps29', 'Steps30', 'Steps31', 'Steps32', 'Steps33', 'Steps34', 'Steps35', 'Steps36', 'Steps37', 'Steps38', 'Steps39', 'Steps40', 'Steps41', 'Steps42', 'Steps43', 'Steps44', 'Steps45', 'Steps46', 'Steps47', 'Steps48', 'Steps49', 'Steps50', 'Steps51', 'Steps52', 'Steps53', 'Steps54', 'Steps55', 'Steps56', 'Steps57', 'Steps58', 'Steps59']\n",
      "\n",
      "\n"
     ]
    }
   ],
   "source": [
    "# Inspect the first few rows and the column names of each dataset\n",
    "datasets = [minute_calories, minute_intensities, minute_steps]\n",
    "dataset_names = ['minute_calories', 'minute_intensities','minute_steps']\n",
    "\n",
    "for name, dataset in zip(dataset_names, datasets):\n",
    "    print(f\"{name.upper()}:\")\n",
    "    print(dataset.head())\n",
    "    print(dataset.columns.tolist())\n",
    "    print(\"\\n\")"
   ]
  },
  {
   "cell_type": "code",
   "execution_count": 4,
   "metadata": {},
   "outputs": [
    {
     "name": "stdout",
     "output_type": "stream",
     "text": [
      "(21645, 62)\n",
      "(21645, 62)\n",
      "(21645, 62)\n"
     ]
    }
   ],
   "source": [
    "# Enusure the shape of dataset before merging\n",
    "print(minute_calories.shape)\n",
    "print(minute_intensities.shape)\n",
    "print(minute_steps.shape)"
   ]
  },
  {
   "cell_type": "markdown",
   "metadata": {},
   "source": [
    "### Dataset Melting ->"
   ]
  },
  {
   "cell_type": "code",
   "execution_count": 5,
   "metadata": {},
   "outputs": [
    {
     "data": {
      "text/html": [
       "<div>\n",
       "<style scoped>\n",
       "    .dataframe tbody tr th:only-of-type {\n",
       "        vertical-align: middle;\n",
       "    }\n",
       "\n",
       "    .dataframe tbody tr th {\n",
       "        vertical-align: top;\n",
       "    }\n",
       "\n",
       "    .dataframe thead th {\n",
       "        text-align: right;\n",
       "    }\n",
       "</style>\n",
       "<table border=\"1\" class=\"dataframe\">\n",
       "  <thead>\n",
       "    <tr style=\"text-align: right;\">\n",
       "      <th></th>\n",
       "      <th>Id</th>\n",
       "      <th>ActivityHour</th>\n",
       "      <th>Minute</th>\n",
       "      <th>Intensities</th>\n",
       "    </tr>\n",
       "  </thead>\n",
       "  <tbody>\n",
       "    <tr>\n",
       "      <th>0</th>\n",
       "      <td>1503960366</td>\n",
       "      <td>4/13/2016 12:00:00 AM</td>\n",
       "      <td>0</td>\n",
       "      <td>1</td>\n",
       "    </tr>\n",
       "    <tr>\n",
       "      <th>1</th>\n",
       "      <td>1503960366</td>\n",
       "      <td>4/13/2016 1:00:00 AM</td>\n",
       "      <td>0</td>\n",
       "      <td>0</td>\n",
       "    </tr>\n",
       "    <tr>\n",
       "      <th>2</th>\n",
       "      <td>1503960366</td>\n",
       "      <td>4/13/2016 2:00:00 AM</td>\n",
       "      <td>0</td>\n",
       "      <td>0</td>\n",
       "    </tr>\n",
       "    <tr>\n",
       "      <th>3</th>\n",
       "      <td>1503960366</td>\n",
       "      <td>4/13/2016 3:00:00 AM</td>\n",
       "      <td>0</td>\n",
       "      <td>0</td>\n",
       "    </tr>\n",
       "    <tr>\n",
       "      <th>4</th>\n",
       "      <td>1503960366</td>\n",
       "      <td>4/13/2016 4:00:00 AM</td>\n",
       "      <td>0</td>\n",
       "      <td>0</td>\n",
       "    </tr>\n",
       "  </tbody>\n",
       "</table>\n",
       "</div>"
      ],
      "text/plain": [
       "           Id           ActivityHour  Minute  Intensities\n",
       "0  1503960366  4/13/2016 12:00:00 AM       0            1\n",
       "1  1503960366   4/13/2016 1:00:00 AM       0            0\n",
       "2  1503960366   4/13/2016 2:00:00 AM       0            0\n",
       "3  1503960366   4/13/2016 3:00:00 AM       0            0\n",
       "4  1503960366   4/13/2016 4:00:00 AM       0            0"
      ]
     },
     "execution_count": 5,
     "metadata": {},
     "output_type": "execute_result"
    }
   ],
   "source": [
    "# Perform the melting operation on 'minuteIntensitiesWide_merged' dataset\n",
    "melted_data1 = pd.melt(minute_intensities, id_vars=['Id', 'ActivityHour'], var_name='Minute', value_name='Intensities')\n",
    "\n",
    "# Adjust the 'Minute' column to extract the minute as a number\n",
    "melted_data1['Minute'] = melted_data1['Minute'].str.extract('(\\d+)').astype(int)\n",
    "\n",
    "# Display the first few rows of the melted dataset\n",
    "melted_data1.head()\n"
   ]
  },
  {
   "cell_type": "code",
   "execution_count": 6,
   "metadata": {},
   "outputs": [
    {
     "data": {
      "text/plain": [
       "(1298700, 4)"
      ]
     },
     "execution_count": 6,
     "metadata": {},
     "output_type": "execute_result"
    }
   ],
   "source": [
    "melted_data1.shape"
   ]
  },
  {
   "cell_type": "code",
   "execution_count": 7,
   "metadata": {},
   "outputs": [
    {
     "data": {
      "text/html": [
       "<div>\n",
       "<style scoped>\n",
       "    .dataframe tbody tr th:only-of-type {\n",
       "        vertical-align: middle;\n",
       "    }\n",
       "\n",
       "    .dataframe tbody tr th {\n",
       "        vertical-align: top;\n",
       "    }\n",
       "\n",
       "    .dataframe thead th {\n",
       "        text-align: right;\n",
       "    }\n",
       "</style>\n",
       "<table border=\"1\" class=\"dataframe\">\n",
       "  <thead>\n",
       "    <tr style=\"text-align: right;\">\n",
       "      <th></th>\n",
       "      <th>Id</th>\n",
       "      <th>ActivityHour</th>\n",
       "      <th>Minute</th>\n",
       "      <th>Calories</th>\n",
       "    </tr>\n",
       "  </thead>\n",
       "  <tbody>\n",
       "    <tr>\n",
       "      <th>0</th>\n",
       "      <td>1503960366</td>\n",
       "      <td>4/13/2016 12:00:00 AM</td>\n",
       "      <td>0</td>\n",
       "      <td>1.8876</td>\n",
       "    </tr>\n",
       "    <tr>\n",
       "      <th>1</th>\n",
       "      <td>1503960366</td>\n",
       "      <td>4/13/2016 1:00:00 AM</td>\n",
       "      <td>0</td>\n",
       "      <td>0.7865</td>\n",
       "    </tr>\n",
       "    <tr>\n",
       "      <th>2</th>\n",
       "      <td>1503960366</td>\n",
       "      <td>4/13/2016 2:00:00 AM</td>\n",
       "      <td>0</td>\n",
       "      <td>0.7865</td>\n",
       "    </tr>\n",
       "    <tr>\n",
       "      <th>3</th>\n",
       "      <td>1503960366</td>\n",
       "      <td>4/13/2016 3:00:00 AM</td>\n",
       "      <td>0</td>\n",
       "      <td>0.7865</td>\n",
       "    </tr>\n",
       "    <tr>\n",
       "      <th>4</th>\n",
       "      <td>1503960366</td>\n",
       "      <td>4/13/2016 4:00:00 AM</td>\n",
       "      <td>0</td>\n",
       "      <td>0.7865</td>\n",
       "    </tr>\n",
       "  </tbody>\n",
       "</table>\n",
       "</div>"
      ],
      "text/plain": [
       "           Id           ActivityHour  Minute  Calories\n",
       "0  1503960366  4/13/2016 12:00:00 AM       0    1.8876\n",
       "1  1503960366   4/13/2016 1:00:00 AM       0    0.7865\n",
       "2  1503960366   4/13/2016 2:00:00 AM       0    0.7865\n",
       "3  1503960366   4/13/2016 3:00:00 AM       0    0.7865\n",
       "4  1503960366   4/13/2016 4:00:00 AM       0    0.7865"
      ]
     },
     "execution_count": 7,
     "metadata": {},
     "output_type": "execute_result"
    }
   ],
   "source": [
    "# Perform the melting operation on 'minuteCaloriesWide_merged' dataset\n",
    "melted_data2 = pd.melt(minute_calories, id_vars=['Id', 'ActivityHour'], var_name='Minute', value_name='Calories')\n",
    "\n",
    "# Adjust the 'Minute' column to extract the minute as a number\n",
    "melted_data2['Minute'] = melted_data2['Minute'].str.extract('(\\d+)').astype(int)\n",
    "\n",
    "# Display the first few rows of the melted dataset\n",
    "melted_data2.head()"
   ]
  },
  {
   "cell_type": "code",
   "execution_count": 8,
   "metadata": {},
   "outputs": [
    {
     "data": {
      "text/plain": [
       "(1298700, 4)"
      ]
     },
     "execution_count": 8,
     "metadata": {},
     "output_type": "execute_result"
    }
   ],
   "source": [
    "melted_data2.shape"
   ]
  },
  {
   "cell_type": "code",
   "execution_count": 9,
   "metadata": {},
   "outputs": [
    {
     "data": {
      "text/html": [
       "<div>\n",
       "<style scoped>\n",
       "    .dataframe tbody tr th:only-of-type {\n",
       "        vertical-align: middle;\n",
       "    }\n",
       "\n",
       "    .dataframe tbody tr th {\n",
       "        vertical-align: top;\n",
       "    }\n",
       "\n",
       "    .dataframe thead th {\n",
       "        text-align: right;\n",
       "    }\n",
       "</style>\n",
       "<table border=\"1\" class=\"dataframe\">\n",
       "  <thead>\n",
       "    <tr style=\"text-align: right;\">\n",
       "      <th></th>\n",
       "      <th>Id</th>\n",
       "      <th>ActivityHour</th>\n",
       "      <th>Minute</th>\n",
       "      <th>Steps</th>\n",
       "    </tr>\n",
       "  </thead>\n",
       "  <tbody>\n",
       "    <tr>\n",
       "      <th>0</th>\n",
       "      <td>1503960366</td>\n",
       "      <td>4/13/2016 12:00:00 AM</td>\n",
       "      <td>0</td>\n",
       "      <td>4</td>\n",
       "    </tr>\n",
       "    <tr>\n",
       "      <th>1</th>\n",
       "      <td>1503960366</td>\n",
       "      <td>4/13/2016 1:00:00 AM</td>\n",
       "      <td>0</td>\n",
       "      <td>0</td>\n",
       "    </tr>\n",
       "    <tr>\n",
       "      <th>2</th>\n",
       "      <td>1503960366</td>\n",
       "      <td>4/13/2016 2:00:00 AM</td>\n",
       "      <td>0</td>\n",
       "      <td>0</td>\n",
       "    </tr>\n",
       "    <tr>\n",
       "      <th>3</th>\n",
       "      <td>1503960366</td>\n",
       "      <td>4/13/2016 3:00:00 AM</td>\n",
       "      <td>0</td>\n",
       "      <td>0</td>\n",
       "    </tr>\n",
       "    <tr>\n",
       "      <th>4</th>\n",
       "      <td>1503960366</td>\n",
       "      <td>4/13/2016 4:00:00 AM</td>\n",
       "      <td>0</td>\n",
       "      <td>0</td>\n",
       "    </tr>\n",
       "  </tbody>\n",
       "</table>\n",
       "</div>"
      ],
      "text/plain": [
       "           Id           ActivityHour  Minute  Steps\n",
       "0  1503960366  4/13/2016 12:00:00 AM       0      4\n",
       "1  1503960366   4/13/2016 1:00:00 AM       0      0\n",
       "2  1503960366   4/13/2016 2:00:00 AM       0      0\n",
       "3  1503960366   4/13/2016 3:00:00 AM       0      0\n",
       "4  1503960366   4/13/2016 4:00:00 AM       0      0"
      ]
     },
     "execution_count": 9,
     "metadata": {},
     "output_type": "execute_result"
    }
   ],
   "source": [
    "# Perform the melting operation 'minuteStepsWide_merged' dataset\n",
    "melted_data3 = pd.melt(minute_steps, id_vars=['Id', 'ActivityHour'], var_name='Minute', value_name='Steps')\n",
    "\n",
    "# Adjust the 'Minute' column to extract the minute as a number\n",
    "melted_data3['Minute'] = melted_data3['Minute'].str.extract('(\\d+)').astype(int)\n",
    "\n",
    "# Display the first few rows of the melted dataset\n",
    "melted_data3.head()"
   ]
  },
  {
   "cell_type": "code",
   "execution_count": 10,
   "metadata": {},
   "outputs": [
    {
     "data": {
      "text/plain": [
       "(1298700, 4)"
      ]
     },
     "execution_count": 10,
     "metadata": {},
     "output_type": "execute_result"
    }
   ],
   "source": [
    "melted_data3.shape"
   ]
  },
  {
   "cell_type": "code",
   "execution_count": 11,
   "metadata": {},
   "outputs": [
    {
     "name": "stdout",
     "output_type": "stream",
     "text": [
      "{'Number of rows': 1298700, 'Number of columns': 6, 'Number of duplicates': 0}\n"
     ]
    },
    {
     "data": {
      "text/html": [
       "<div>\n",
       "<style scoped>\n",
       "    .dataframe tbody tr th:only-of-type {\n",
       "        vertical-align: middle;\n",
       "    }\n",
       "\n",
       "    .dataframe tbody tr th {\n",
       "        vertical-align: top;\n",
       "    }\n",
       "\n",
       "    .dataframe thead th {\n",
       "        text-align: right;\n",
       "    }\n",
       "</style>\n",
       "<table border=\"1\" class=\"dataframe\">\n",
       "  <thead>\n",
       "    <tr style=\"text-align: right;\">\n",
       "      <th></th>\n",
       "      <th>Id</th>\n",
       "      <th>ActivityHour</th>\n",
       "      <th>Minute</th>\n",
       "      <th>Intensities</th>\n",
       "      <th>Calories</th>\n",
       "      <th>Steps</th>\n",
       "    </tr>\n",
       "  </thead>\n",
       "  <tbody>\n",
       "    <tr>\n",
       "      <th>0</th>\n",
       "      <td>1503960366</td>\n",
       "      <td>4/13/2016 12:00:00 AM</td>\n",
       "      <td>0</td>\n",
       "      <td>1</td>\n",
       "      <td>1.8876</td>\n",
       "      <td>4</td>\n",
       "    </tr>\n",
       "    <tr>\n",
       "      <th>1</th>\n",
       "      <td>1503960366</td>\n",
       "      <td>4/13/2016 1:00:00 AM</td>\n",
       "      <td>0</td>\n",
       "      <td>0</td>\n",
       "      <td>0.7865</td>\n",
       "      <td>0</td>\n",
       "    </tr>\n",
       "    <tr>\n",
       "      <th>2</th>\n",
       "      <td>1503960366</td>\n",
       "      <td>4/13/2016 2:00:00 AM</td>\n",
       "      <td>0</td>\n",
       "      <td>0</td>\n",
       "      <td>0.7865</td>\n",
       "      <td>0</td>\n",
       "    </tr>\n",
       "    <tr>\n",
       "      <th>3</th>\n",
       "      <td>1503960366</td>\n",
       "      <td>4/13/2016 3:00:00 AM</td>\n",
       "      <td>0</td>\n",
       "      <td>0</td>\n",
       "      <td>0.7865</td>\n",
       "      <td>0</td>\n",
       "    </tr>\n",
       "    <tr>\n",
       "      <th>4</th>\n",
       "      <td>1503960366</td>\n",
       "      <td>4/13/2016 4:00:00 AM</td>\n",
       "      <td>0</td>\n",
       "      <td>0</td>\n",
       "      <td>0.7865</td>\n",
       "      <td>0</td>\n",
       "    </tr>\n",
       "  </tbody>\n",
       "</table>\n",
       "</div>"
      ],
      "text/plain": [
       "           Id           ActivityHour  Minute  Intensities  Calories  Steps\n",
       "0  1503960366  4/13/2016 12:00:00 AM       0            1    1.8876      4\n",
       "1  1503960366   4/13/2016 1:00:00 AM       0            0    0.7865      0\n",
       "2  1503960366   4/13/2016 2:00:00 AM       0            0    0.7865      0\n",
       "3  1503960366   4/13/2016 3:00:00 AM       0            0    0.7865      0\n",
       "4  1503960366   4/13/2016 4:00:00 AM       0            0    0.7865      0"
      ]
     },
     "execution_count": 11,
     "metadata": {},
     "output_type": "execute_result"
    }
   ],
   "source": [
    "# Merge datasets: Start with minutely_calories as the base, then merge others one by one\n",
    "# Using an outer join to ensure no data is missed\n",
    "minute_merged_data_wide = melted_data1.merge(melted_data2, on=['Id', 'ActivityHour','Minute'], how='outer', suffixes=('', '_calories'))\n",
    "\n",
    "# Merging minutely_steps\n",
    "minute_merged_data_wide = minute_merged_data_wide.merge(melted_data3, on=['Id', 'ActivityHour','Minute'], how='outer', suffixes=('', '_steps'))\n",
    "\n",
    "# Check for duplicates\n",
    "duplicates = minute_merged_data_wide.duplicated().sum()\n",
    "\n",
    "# Overview of the merged dataset\n",
    "merged_overview = {\n",
    "    'Number of rows': minute_merged_data_wide.shape[0],\n",
    "    'Number of columns': minute_merged_data_wide.shape[1],\n",
    "    'Number of duplicates': duplicates\n",
    "}\n",
    "\n",
    "print(merged_overview)\n",
    "minute_merged_data_wide.head()"
   ]
  },
  {
   "cell_type": "markdown",
   "metadata": {},
   "source": [
    "### Exporting the Dataset ->"
   ]
  },
  {
   "cell_type": "code",
   "execution_count": 12,
   "metadata": {},
   "outputs": [],
   "source": [
    "minute_merged_data_wide.to_csv(\"minute_merged_data_wide.csv\")"
   ]
  },
  {
   "cell_type": "code",
   "execution_count": null,
   "metadata": {},
   "outputs": [],
   "source": []
  }
 ],
 "metadata": {
  "kernelspec": {
   "display_name": "base",
   "language": "python",
   "name": "python3"
  },
  "language_info": {
   "codemirror_mode": {
    "name": "ipython",
    "version": 3
   },
   "file_extension": ".py",
   "mimetype": "text/x-python",
   "name": "python",
   "nbconvert_exporter": "python",
   "pygments_lexer": "ipython3",
   "version": "3.11.5"
  }
 },
 "nbformat": 4,
 "nbformat_minor": 2
}
