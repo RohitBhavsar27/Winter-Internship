{
 "cells": [
  {
   "cell_type": "markdown",
   "metadata": {},
   "source": [
    "# Objective : Data Merging (hour)"
   ]
  },
  {
   "cell_type": "markdown",
   "metadata": {},
   "source": [
    "### Import Required Libraries ->"
   ]
  },
  {
   "cell_type": "code",
   "execution_count": 1,
   "metadata": {},
   "outputs": [],
   "source": [
    "import pandas as pd\n",
    "import numpy as np \n",
    "import matplotlib.pyplot as plt\n",
    "import seaborn as sns"
   ]
  },
  {
   "cell_type": "markdown",
   "metadata": {},
   "source": [
    "### Load the Dataset ->"
   ]
  },
  {
   "cell_type": "code",
   "execution_count": 3,
   "metadata": {},
   "outputs": [],
   "source": [
    "\n",
    "hourly_steps = pd.read_csv('hourlySteps_merged.csv')\n",
    "hourly_calories = pd.read_csv('hourlyCalories_merged.csv')\n",
    "hourly_intensities = pd.read_csv('hourlyIntensities_merged.csv')"
   ]
  },
  {
   "cell_type": "markdown",
   "metadata": {},
   "source": [
    "### Preview The Dataset ->"
   ]
  },
  {
   "cell_type": "code",
   "execution_count": 4,
   "metadata": {},
   "outputs": [
    {
     "name": "stdout",
     "output_type": "stream",
     "text": [
      "HOURLY_STEPS:\n",
      "           Id           ActivityHour  StepTotal\n",
      "0  1503960366  4/12/2016 12:00:00 AM        373\n",
      "1  1503960366   4/12/2016 1:00:00 AM        160\n",
      "2  1503960366   4/12/2016 2:00:00 AM        151\n",
      "3  1503960366   4/12/2016 3:00:00 AM          0\n",
      "4  1503960366   4/12/2016 4:00:00 AM          0\n",
      "['Id', 'ActivityHour', 'StepTotal']\n",
      "\n",
      "\n",
      "HOURLY_CALORIES:\n",
      "           Id           ActivityHour  Calories\n",
      "0  1503960366  4/12/2016 12:00:00 AM        81\n",
      "1  1503960366   4/12/2016 1:00:00 AM        61\n",
      "2  1503960366   4/12/2016 2:00:00 AM        59\n",
      "3  1503960366   4/12/2016 3:00:00 AM        47\n",
      "4  1503960366   4/12/2016 4:00:00 AM        48\n",
      "['Id', 'ActivityHour', 'Calories']\n",
      "\n",
      "\n",
      "HOURLY_INTENSITIES:\n",
      "           Id           ActivityHour  TotalIntensity  AverageIntensity\n",
      "0  1503960366  4/12/2016 12:00:00 AM              20          0.333333\n",
      "1  1503960366   4/12/2016 1:00:00 AM               8          0.133333\n",
      "2  1503960366   4/12/2016 2:00:00 AM               7          0.116667\n",
      "3  1503960366   4/12/2016 3:00:00 AM               0          0.000000\n",
      "4  1503960366   4/12/2016 4:00:00 AM               0          0.000000\n",
      "['Id', 'ActivityHour', 'TotalIntensity', 'AverageIntensity']\n",
      "\n",
      "\n"
     ]
    }
   ],
   "source": [
    "# Inspect the first few rows and the column names of each dataset\n",
    "datasets = [hourly_steps, hourly_calories, hourly_intensities]\n",
    "dataset_names = ['hourly_steps', 'hourly_calories','hourly_intensities']\n",
    "\n",
    "for name, dataset in zip(dataset_names, datasets):\n",
    "    print(f\"{name.upper()}:\")\n",
    "    print(dataset.head())\n",
    "    print(dataset.columns.tolist())\n",
    "    print(\"\\n\")"
   ]
  },
  {
   "cell_type": "code",
   "execution_count": 5,
   "metadata": {},
   "outputs": [
    {
     "name": "stdout",
     "output_type": "stream",
     "text": [
      "(22099, 3)\n",
      "(22099, 3)\n",
      "(22099, 4)\n"
     ]
    }
   ],
   "source": [
    "# Ensure the shape of dataset before merge\n",
    "print(hourly_steps.shape)\n",
    "print(hourly_calories.shape)\n",
    "print(hourly_intensities.shape)"
   ]
  },
  {
   "cell_type": "markdown",
   "metadata": {},
   "source": [
    "### Merging of Dataset ->"
   ]
  },
  {
   "cell_type": "code",
   "execution_count": 6,
   "metadata": {},
   "outputs": [
    {
     "name": "stdout",
     "output_type": "stream",
     "text": [
      "{'Number of rows': 22099, 'Number of columns': 6, 'Number of duplicates': 0}\n"
     ]
    },
    {
     "data": {
      "text/html": [
       "<div>\n",
       "<style scoped>\n",
       "    .dataframe tbody tr th:only-of-type {\n",
       "        vertical-align: middle;\n",
       "    }\n",
       "\n",
       "    .dataframe tbody tr th {\n",
       "        vertical-align: top;\n",
       "    }\n",
       "\n",
       "    .dataframe thead th {\n",
       "        text-align: right;\n",
       "    }\n",
       "</style>\n",
       "<table border=\"1\" class=\"dataframe\">\n",
       "  <thead>\n",
       "    <tr style=\"text-align: right;\">\n",
       "      <th></th>\n",
       "      <th>Id</th>\n",
       "      <th>ActivityHour</th>\n",
       "      <th>StepTotal</th>\n",
       "      <th>Calories</th>\n",
       "      <th>TotalIntensity</th>\n",
       "      <th>AverageIntensity</th>\n",
       "    </tr>\n",
       "  </thead>\n",
       "  <tbody>\n",
       "    <tr>\n",
       "      <th>0</th>\n",
       "      <td>1503960366</td>\n",
       "      <td>4/12/2016 12:00:00 AM</td>\n",
       "      <td>373</td>\n",
       "      <td>81</td>\n",
       "      <td>20</td>\n",
       "      <td>0.333333</td>\n",
       "    </tr>\n",
       "    <tr>\n",
       "      <th>1</th>\n",
       "      <td>1503960366</td>\n",
       "      <td>4/12/2016 1:00:00 AM</td>\n",
       "      <td>160</td>\n",
       "      <td>61</td>\n",
       "      <td>8</td>\n",
       "      <td>0.133333</td>\n",
       "    </tr>\n",
       "    <tr>\n",
       "      <th>2</th>\n",
       "      <td>1503960366</td>\n",
       "      <td>4/12/2016 2:00:00 AM</td>\n",
       "      <td>151</td>\n",
       "      <td>59</td>\n",
       "      <td>7</td>\n",
       "      <td>0.116667</td>\n",
       "    </tr>\n",
       "    <tr>\n",
       "      <th>3</th>\n",
       "      <td>1503960366</td>\n",
       "      <td>4/12/2016 3:00:00 AM</td>\n",
       "      <td>0</td>\n",
       "      <td>47</td>\n",
       "      <td>0</td>\n",
       "      <td>0.000000</td>\n",
       "    </tr>\n",
       "    <tr>\n",
       "      <th>4</th>\n",
       "      <td>1503960366</td>\n",
       "      <td>4/12/2016 4:00:00 AM</td>\n",
       "      <td>0</td>\n",
       "      <td>48</td>\n",
       "      <td>0</td>\n",
       "      <td>0.000000</td>\n",
       "    </tr>\n",
       "  </tbody>\n",
       "</table>\n",
       "</div>"
      ],
      "text/plain": [
       "           Id           ActivityHour  StepTotal  Calories  TotalIntensity  \\\n",
       "0  1503960366  4/12/2016 12:00:00 AM        373        81              20   \n",
       "1  1503960366   4/12/2016 1:00:00 AM        160        61               8   \n",
       "2  1503960366   4/12/2016 2:00:00 AM        151        59               7   \n",
       "3  1503960366   4/12/2016 3:00:00 AM          0        47               0   \n",
       "4  1503960366   4/12/2016 4:00:00 AM          0        48               0   \n",
       "\n",
       "   AverageIntensity  \n",
       "0          0.333333  \n",
       "1          0.133333  \n",
       "2          0.116667  \n",
       "3          0.000000  \n",
       "4          0.000000  "
      ]
     },
     "execution_count": 6,
     "metadata": {},
     "output_type": "execute_result"
    }
   ],
   "source": [
    "# Merge datasets: Start with hourly_steps as the base, then merge others one by one\n",
    "# Using an outer join to ensure no data is missed\n",
    "hourly_merged_data = hourly_steps.merge(hourly_calories, on=['Id', 'ActivityHour'], how='outer', suffixes=('', '_calories'))\n",
    "\n",
    "# Merging hourly_intensities\n",
    "hourly_merged_data = hourly_merged_data.merge(hourly_intensities, on=['Id', 'ActivityHour'], how='outer', suffixes=('', '_intensities'))\n",
    "\n",
    "# Check for duplicates based on Id and ActivityDay\n",
    "duplicates = hourly_merged_data.duplicated(subset=['Id', 'ActivityHour'], keep='first').sum()\n",
    "\n",
    "# Overview of the merged dataset\n",
    "merged_overview = {\n",
    "    'Number of rows': hourly_merged_data.shape[0],\n",
    "    'Number of columns': hourly_merged_data.shape[1],\n",
    "    'Number of duplicates': duplicates\n",
    "}\n",
    "\n",
    "print(merged_overview)\n",
    "hourly_merged_data.head()"
   ]
  },
  {
   "cell_type": "code",
   "execution_count": 6,
   "metadata": {},
   "outputs": [],
   "source": [
    "# Define a function to split the ActivityHour column into ActivityDay and ActivityTime\n",
    "def split_activity_hour(df, column_name='ActivityHour'):\n",
    "    # Split the column into two parts: Date and Time\n",
    "    split_columns = df[column_name].str.split(' ', expand=True)\n",
    "    # Assign the split columns to the dataframe\n",
    "    df['ActivityDay'] = pd.to_datetime(split_columns[0])  # Convert to datetime format\n",
    "    df['ActivityTime'] = split_columns[1]\n",
    "    # Drop the original ActivityHour column\n",
    "    df.drop(column_name, axis=1, inplace=True)\n",
    "    return df"
   ]
  },
  {
   "cell_type": "code",
   "execution_count": 7,
   "metadata": {},
   "outputs": [],
   "source": [
    "# Apply the function to each dataset\n",
    "hourly_merged_data = split_activity_hour(hourly_merged_data)"
   ]
  },
  {
   "cell_type": "markdown",
   "metadata": {},
   "source": [
    "### Exporting the Dataset ->"
   ]
  },
  {
   "cell_type": "code",
   "execution_count": 7,
   "metadata": {},
   "outputs": [],
   "source": [
    "hourly_merged_data.to_csv(\"hourly_merged_data.csv\")"
   ]
  }
 ],
 "metadata": {
  "kernelspec": {
   "display_name": "base",
   "language": "python",
   "name": "python3"
  },
  "language_info": {
   "codemirror_mode": {
    "name": "ipython",
    "version": 3
   },
   "file_extension": ".py",
   "mimetype": "text/x-python",
   "name": "python",
   "nbconvert_exporter": "python",
   "pygments_lexer": "ipython3",
   "version": "3.11.5"
  }
 },
 "nbformat": 4,
 "nbformat_minor": 2
}
