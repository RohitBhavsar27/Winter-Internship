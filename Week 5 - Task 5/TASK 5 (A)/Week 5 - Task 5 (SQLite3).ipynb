{
 "cells": [
  {
   "cell_type": "code",
   "execution_count": 1,
   "metadata": {},
   "outputs": [],
   "source": [
    "import pandas as pd\n",
    "import sqlite3 as sql"
   ]
  },
  {
   "cell_type": "code",
   "execution_count": 2,
   "metadata": {},
   "outputs": [],
   "source": [
    "conn = sql.connect(\"G:\\My Drive\\Prepinsta - Data Analytics\\Week 5\\Week 5 - Task 5\\sql-murder-mystery.db\")"
   ]
  },
  {
   "cell_type": "code",
   "execution_count": 4,
   "metadata": {},
   "outputs": [
    {
     "data": {
      "text/plain": [
       "<sqlite3.Connection at 0x1d8cc462110>"
      ]
     },
     "execution_count": 4,
     "metadata": {},
     "output_type": "execute_result"
    }
   ],
   "source": [
    "conn"
   ]
  },
  {
   "cell_type": "markdown",
   "metadata": {},
   "source": [
    "## 1. Retrieve Crime Scene Report:\n",
    "### Task: Run a query to retrieve the crime scene report for the murder that occurred on Jan.15, 2018, in SQL City. Gather all available details from the report."
   ]
  },
  {
   "cell_type": "code",
   "execution_count": 6,
   "metadata": {},
   "outputs": [
    {
     "data": {
      "text/html": [
       "<div>\n",
       "<style scoped>\n",
       "    .dataframe tbody tr th:only-of-type {\n",
       "        vertical-align: middle;\n",
       "    }\n",
       "\n",
       "    .dataframe tbody tr th {\n",
       "        vertical-align: top;\n",
       "    }\n",
       "\n",
       "    .dataframe thead th {\n",
       "        text-align: right;\n",
       "    }\n",
       "</style>\n",
       "<table border=\"1\" class=\"dataframe\">\n",
       "  <thead>\n",
       "    <tr style=\"text-align: right;\">\n",
       "      <th></th>\n",
       "      <th>date</th>\n",
       "      <th>type</th>\n",
       "      <th>description</th>\n",
       "      <th>city</th>\n",
       "    </tr>\n",
       "  </thead>\n",
       "  <tbody>\n",
       "    <tr>\n",
       "      <th>0</th>\n",
       "      <td>20180115</td>\n",
       "      <td>murder</td>\n",
       "      <td>Security footage shows that there were 2 witne...</td>\n",
       "      <td>SQL City</td>\n",
       "    </tr>\n",
       "  </tbody>\n",
       "</table>\n",
       "</div>"
      ],
      "text/plain": [
       "       date    type                                        description  \\\n",
       "0  20180115  murder  Security footage shows that there were 2 witne...   \n",
       "\n",
       "       city  \n",
       "0  SQL City  "
      ]
     },
     "execution_count": 6,
     "metadata": {},
     "output_type": "execute_result"
    }
   ],
   "source": [
    "query1 = \"\"\"\n",
    "SELECT *FROM crime_scene_report \n",
    "WHERE date = 20180115 \n",
    "AND type = \"murder\" \n",
    "AND city = \"SQL City\";\n",
    "\"\"\"\n",
    "\n",
    "pd.read_sql_query(query1,conn)"
   ]
  },
  {
   "cell_type": "markdown",
   "metadata": {},
   "source": [
    "## 2. Witness Personal Details:\n",
    "### Task: Check the personal details of witnesses involved in the case. Retrieve their names, addresses, and any other relevant information."
   ]
  },
  {
   "cell_type": "markdown",
   "metadata": {},
   "source": [
    "#### 1st Witness -->"
   ]
  },
  {
   "cell_type": "code",
   "execution_count": 7,
   "metadata": {},
   "outputs": [
    {
     "data": {
      "text/html": [
       "<div>\n",
       "<style scoped>\n",
       "    .dataframe tbody tr th:only-of-type {\n",
       "        vertical-align: middle;\n",
       "    }\n",
       "\n",
       "    .dataframe tbody tr th {\n",
       "        vertical-align: top;\n",
       "    }\n",
       "\n",
       "    .dataframe thead th {\n",
       "        text-align: right;\n",
       "    }\n",
       "</style>\n",
       "<table border=\"1\" class=\"dataframe\">\n",
       "  <thead>\n",
       "    <tr style=\"text-align: right;\">\n",
       "      <th></th>\n",
       "      <th>id</th>\n",
       "      <th>name</th>\n",
       "      <th>license_id</th>\n",
       "      <th>address_number</th>\n",
       "      <th>address_street_name</th>\n",
       "      <th>ssn</th>\n",
       "    </tr>\n",
       "  </thead>\n",
       "  <tbody>\n",
       "    <tr>\n",
       "      <th>0</th>\n",
       "      <td>14887</td>\n",
       "      <td>Morty Schapiro</td>\n",
       "      <td>118009</td>\n",
       "      <td>4919</td>\n",
       "      <td>Northwestern Dr</td>\n",
       "      <td>111564949</td>\n",
       "    </tr>\n",
       "  </tbody>\n",
       "</table>\n",
       "</div>"
      ],
      "text/plain": [
       "      id            name  license_id  address_number address_street_name  \\\n",
       "0  14887  Morty Schapiro      118009            4919     Northwestern Dr   \n",
       "\n",
       "         ssn  \n",
       "0  111564949  "
      ]
     },
     "execution_count": 7,
     "metadata": {},
     "output_type": "execute_result"
    }
   ],
   "source": [
    "query2 = \"\"\"\n",
    "SELECT *FROM person \n",
    "WHERE address_street_name = \"Northwestern Dr\" \n",
    "ORDER BY address_number \n",
    "DESC LIMIT 1;\n",
    "\"\"\"\n",
    "\n",
    "pd.read_sql_query(query2,conn)"
   ]
  },
  {
   "cell_type": "markdown",
   "metadata": {},
   "source": [
    "#### 2nd Witness -->"
   ]
  },
  {
   "cell_type": "code",
   "execution_count": 8,
   "metadata": {},
   "outputs": [
    {
     "data": {
      "text/html": [
       "<div>\n",
       "<style scoped>\n",
       "    .dataframe tbody tr th:only-of-type {\n",
       "        vertical-align: middle;\n",
       "    }\n",
       "\n",
       "    .dataframe tbody tr th {\n",
       "        vertical-align: top;\n",
       "    }\n",
       "\n",
       "    .dataframe thead th {\n",
       "        text-align: right;\n",
       "    }\n",
       "</style>\n",
       "<table border=\"1\" class=\"dataframe\">\n",
       "  <thead>\n",
       "    <tr style=\"text-align: right;\">\n",
       "      <th></th>\n",
       "      <th>id</th>\n",
       "      <th>name</th>\n",
       "      <th>license_id</th>\n",
       "      <th>address_number</th>\n",
       "      <th>address_street_name</th>\n",
       "      <th>ssn</th>\n",
       "    </tr>\n",
       "  </thead>\n",
       "  <tbody>\n",
       "    <tr>\n",
       "      <th>0</th>\n",
       "      <td>16371</td>\n",
       "      <td>Annabel Miller</td>\n",
       "      <td>490173</td>\n",
       "      <td>103</td>\n",
       "      <td>Franklin Ave</td>\n",
       "      <td>318771143</td>\n",
       "    </tr>\n",
       "  </tbody>\n",
       "</table>\n",
       "</div>"
      ],
      "text/plain": [
       "      id            name  license_id  address_number address_street_name  \\\n",
       "0  16371  Annabel Miller      490173             103        Franklin Ave   \n",
       "\n",
       "         ssn  \n",
       "0  318771143  "
      ]
     },
     "execution_count": 8,
     "metadata": {},
     "output_type": "execute_result"
    }
   ],
   "source": [
    "query3 = \"\"\"\n",
    "SELECT *FROM person \n",
    "WHERE address_street_name = \"Franklin Ave\" \n",
    "AND name LIKE \"Annabel%\"; \n",
    "\"\"\"\n",
    "\n",
    "pd.read_sql_query(query3,conn)"
   ]
  },
  {
   "cell_type": "markdown",
   "metadata": {},
   "source": [
    "## 3. View Witness Interviews:\n",
    "### Task: Access the recorded interviews of witnesses conducted after the murder. Gather insights into their statements and potential clues."
   ]
  },
  {
   "cell_type": "markdown",
   "metadata": {},
   "source": [
    "#### 1st Witness's transcript -->"
   ]
  },
  {
   "cell_type": "code",
   "execution_count": 9,
   "metadata": {},
   "outputs": [
    {
     "data": {
      "text/html": [
       "<div>\n",
       "<style scoped>\n",
       "    .dataframe tbody tr th:only-of-type {\n",
       "        vertical-align: middle;\n",
       "    }\n",
       "\n",
       "    .dataframe tbody tr th {\n",
       "        vertical-align: top;\n",
       "    }\n",
       "\n",
       "    .dataframe thead th {\n",
       "        text-align: right;\n",
       "    }\n",
       "</style>\n",
       "<table border=\"1\" class=\"dataframe\">\n",
       "  <thead>\n",
       "    <tr style=\"text-align: right;\">\n",
       "      <th></th>\n",
       "      <th>transcript</th>\n",
       "    </tr>\n",
       "  </thead>\n",
       "  <tbody>\n",
       "    <tr>\n",
       "      <th>0</th>\n",
       "      <td>I saw the murder happen, and I recognized the ...</td>\n",
       "    </tr>\n",
       "  </tbody>\n",
       "</table>\n",
       "</div>"
      ],
      "text/plain": [
       "                                          transcript\n",
       "0  I saw the murder happen, and I recognized the ..."
      ]
     },
     "execution_count": 9,
     "metadata": {},
     "output_type": "execute_result"
    }
   ],
   "source": [
    "query4 = \"\"\"\n",
    "SELECT transcript \n",
    "FROM interview \n",
    "WHERE person_id  = 16371;\n",
    "\"\"\"\n",
    "\n",
    "pd.read_sql_query(query4,conn)"
   ]
  },
  {
   "cell_type": "markdown",
   "metadata": {},
   "source": [
    "#### 2nd Witness transcript -->"
   ]
  },
  {
   "cell_type": "code",
   "execution_count": 10,
   "metadata": {},
   "outputs": [
    {
     "data": {
      "text/html": [
       "<div>\n",
       "<style scoped>\n",
       "    .dataframe tbody tr th:only-of-type {\n",
       "        vertical-align: middle;\n",
       "    }\n",
       "\n",
       "    .dataframe tbody tr th {\n",
       "        vertical-align: top;\n",
       "    }\n",
       "\n",
       "    .dataframe thead th {\n",
       "        text-align: right;\n",
       "    }\n",
       "</style>\n",
       "<table border=\"1\" class=\"dataframe\">\n",
       "  <thead>\n",
       "    <tr style=\"text-align: right;\">\n",
       "      <th></th>\n",
       "      <th>transcript</th>\n",
       "    </tr>\n",
       "  </thead>\n",
       "  <tbody>\n",
       "    <tr>\n",
       "      <th>0</th>\n",
       "      <td>I heard a gunshot and then saw a man run out. ...</td>\n",
       "    </tr>\n",
       "  </tbody>\n",
       "</table>\n",
       "</div>"
      ],
      "text/plain": [
       "                                          transcript\n",
       "0  I heard a gunshot and then saw a man run out. ..."
      ]
     },
     "execution_count": 10,
     "metadata": {},
     "output_type": "execute_result"
    }
   ],
   "source": [
    "query5 = \"\"\"\n",
    "SELECT transcript \n",
    "FROM interview \n",
    "WHERE person_id  = 14887;\n",
    "\"\"\"\n",
    "\n",
    "pd.read_sql_query(query5,conn)"
   ]
  },
  {
   "cell_type": "markdown",
   "metadata": {},
   "source": [
    "## 4. Check Gym Database:\n",
    "### Task: Investigate the gym database using details obtained from the crime scene report and witness interviews. Look for any gym-related information that might be relevant."
   ]
  },
  {
   "cell_type": "markdown",
   "metadata": {},
   "source": [
    "#### Cross referencing 1st witness transcript -->"
   ]
  },
  {
   "cell_type": "code",
   "execution_count": 11,
   "metadata": {},
   "outputs": [
    {
     "data": {
      "text/html": [
       "<div>\n",
       "<style scoped>\n",
       "    .dataframe tbody tr th:only-of-type {\n",
       "        vertical-align: middle;\n",
       "    }\n",
       "\n",
       "    .dataframe tbody tr th {\n",
       "        vertical-align: top;\n",
       "    }\n",
       "\n",
       "    .dataframe thead th {\n",
       "        text-align: right;\n",
       "    }\n",
       "</style>\n",
       "<table border=\"1\" class=\"dataframe\">\n",
       "  <thead>\n",
       "    <tr style=\"text-align: right;\">\n",
       "      <th></th>\n",
       "      <th>membership_id</th>\n",
       "    </tr>\n",
       "  </thead>\n",
       "  <tbody>\n",
       "    <tr>\n",
       "      <th>0</th>\n",
       "      <td>X0643</td>\n",
       "    </tr>\n",
       "    <tr>\n",
       "      <th>1</th>\n",
       "      <td>UK1F2</td>\n",
       "    </tr>\n",
       "    <tr>\n",
       "      <th>2</th>\n",
       "      <td>XTE42</td>\n",
       "    </tr>\n",
       "    <tr>\n",
       "      <th>3</th>\n",
       "      <td>1AE2H</td>\n",
       "    </tr>\n",
       "    <tr>\n",
       "      <th>4</th>\n",
       "      <td>6LSTG</td>\n",
       "    </tr>\n",
       "    <tr>\n",
       "      <th>5</th>\n",
       "      <td>7MWHJ</td>\n",
       "    </tr>\n",
       "    <tr>\n",
       "      <th>6</th>\n",
       "      <td>GE5Q8</td>\n",
       "    </tr>\n",
       "    <tr>\n",
       "      <th>7</th>\n",
       "      <td>48Z7A</td>\n",
       "    </tr>\n",
       "    <tr>\n",
       "      <th>8</th>\n",
       "      <td>48Z55</td>\n",
       "    </tr>\n",
       "    <tr>\n",
       "      <th>9</th>\n",
       "      <td>90081</td>\n",
       "    </tr>\n",
       "  </tbody>\n",
       "</table>\n",
       "</div>"
      ],
      "text/plain": [
       "  membership_id\n",
       "0         X0643\n",
       "1         UK1F2\n",
       "2         XTE42\n",
       "3         1AE2H\n",
       "4         6LSTG\n",
       "5         7MWHJ\n",
       "6         GE5Q8\n",
       "7         48Z7A\n",
       "8         48Z55\n",
       "9         90081"
      ]
     },
     "execution_count": 11,
     "metadata": {},
     "output_type": "execute_result"
    }
   ],
   "source": [
    "query6 = \"\"\"\n",
    "SELECT membership_id \n",
    "FROM get_fit_now_check_in \n",
    "WHERE check_in_date = 20180109;\n",
    "\"\"\"\n",
    "\n",
    "pd.read_sql_query(query6,conn)"
   ]
  },
  {
   "cell_type": "markdown",
   "metadata": {},
   "source": [
    "#### Cross referencing 2nd witness transcript -->"
   ]
  },
  {
   "cell_type": "code",
   "execution_count": 12,
   "metadata": {},
   "outputs": [
    {
     "data": {
      "text/html": [
       "<div>\n",
       "<style scoped>\n",
       "    .dataframe tbody tr th:only-of-type {\n",
       "        vertical-align: middle;\n",
       "    }\n",
       "\n",
       "    .dataframe tbody tr th {\n",
       "        vertical-align: top;\n",
       "    }\n",
       "\n",
       "    .dataframe thead th {\n",
       "        text-align: right;\n",
       "    }\n",
       "</style>\n",
       "<table border=\"1\" class=\"dataframe\">\n",
       "  <thead>\n",
       "    <tr style=\"text-align: right;\">\n",
       "      <th></th>\n",
       "      <th>id</th>\n",
       "      <th>person_id</th>\n",
       "      <th>name</th>\n",
       "      <th>membership_start_date</th>\n",
       "      <th>membership_status</th>\n",
       "    </tr>\n",
       "  </thead>\n",
       "  <tbody>\n",
       "    <tr>\n",
       "      <th>0</th>\n",
       "      <td>48Z7A</td>\n",
       "      <td>28819</td>\n",
       "      <td>Joe Germuska</td>\n",
       "      <td>20160305</td>\n",
       "      <td>gold</td>\n",
       "    </tr>\n",
       "    <tr>\n",
       "      <th>1</th>\n",
       "      <td>48Z55</td>\n",
       "      <td>67318</td>\n",
       "      <td>Jeremy Bowers</td>\n",
       "      <td>20160101</td>\n",
       "      <td>gold</td>\n",
       "    </tr>\n",
       "  </tbody>\n",
       "</table>\n",
       "</div>"
      ],
      "text/plain": [
       "      id  person_id           name  membership_start_date membership_status\n",
       "0  48Z7A      28819   Joe Germuska               20160305              gold\n",
       "1  48Z55      67318  Jeremy Bowers               20160101              gold"
      ]
     },
     "execution_count": 12,
     "metadata": {},
     "output_type": "execute_result"
    }
   ],
   "source": [
    "query7 = \"\"\"\n",
    "SELECT *FROM get_fit_now_member \n",
    "WHERE id LIKE \"48Z%\" \n",
    "AND membership_status = \"gold\";\n",
    "\"\"\"\n",
    "\n",
    "pd.read_sql_query(query7,conn)"
   ]
  },
  {
   "cell_type": "markdown",
   "metadata": {},
   "source": [
    "## 5. Check Car Details:\n",
    "### Task: Examine the car details associated with the crime scene. Retrieve information about the vehicles present during the incident."
   ]
  },
  {
   "cell_type": "code",
   "execution_count": 13,
   "metadata": {},
   "outputs": [
    {
     "data": {
      "text/html": [
       "<div>\n",
       "<style scoped>\n",
       "    .dataframe tbody tr th:only-of-type {\n",
       "        vertical-align: middle;\n",
       "    }\n",
       "\n",
       "    .dataframe tbody tr th {\n",
       "        vertical-align: top;\n",
       "    }\n",
       "\n",
       "    .dataframe thead th {\n",
       "        text-align: right;\n",
       "    }\n",
       "</style>\n",
       "<table border=\"1\" class=\"dataframe\">\n",
       "  <thead>\n",
       "    <tr style=\"text-align: right;\">\n",
       "      <th></th>\n",
       "      <th>id</th>\n",
       "    </tr>\n",
       "  </thead>\n",
       "  <tbody>\n",
       "    <tr>\n",
       "      <th>0</th>\n",
       "      <td>183779</td>\n",
       "    </tr>\n",
       "    <tr>\n",
       "      <th>1</th>\n",
       "      <td>423327</td>\n",
       "    </tr>\n",
       "    <tr>\n",
       "      <th>2</th>\n",
       "      <td>664760</td>\n",
       "    </tr>\n",
       "  </tbody>\n",
       "</table>\n",
       "</div>"
      ],
      "text/plain": [
       "       id\n",
       "0  183779\n",
       "1  423327\n",
       "2  664760"
      ]
     },
     "execution_count": 13,
     "metadata": {},
     "output_type": "execute_result"
    }
   ],
   "source": [
    "query8 = \"\"\"\n",
    "SELECT id FROM drivers_license \n",
    "WHERE plate_number LIKE \"%H42W%\";\n",
    "\"\"\"\n",
    "\n",
    "pd.read_sql_query(query8,conn)"
   ]
  },
  {
   "cell_type": "markdown",
   "metadata": {},
   "source": [
    "## 6. Prsonal Details:\n",
    "### Task: Identify and collect personal details mentioned in the previous query. This includes names, addresses, and any additional details."
   ]
  },
  {
   "cell_type": "code",
   "execution_count": 14,
   "metadata": {},
   "outputs": [
    {
     "data": {
      "text/html": [
       "<div>\n",
       "<style scoped>\n",
       "    .dataframe tbody tr th:only-of-type {\n",
       "        vertical-align: middle;\n",
       "    }\n",
       "\n",
       "    .dataframe tbody tr th {\n",
       "        vertical-align: top;\n",
       "    }\n",
       "\n",
       "    .dataframe thead th {\n",
       "        text-align: right;\n",
       "    }\n",
       "</style>\n",
       "<table border=\"1\" class=\"dataframe\">\n",
       "  <thead>\n",
       "    <tr style=\"text-align: right;\">\n",
       "      <th></th>\n",
       "      <th>id</th>\n",
       "      <th>name</th>\n",
       "      <th>license_id</th>\n",
       "      <th>address_number</th>\n",
       "      <th>address_street_name</th>\n",
       "      <th>ssn</th>\n",
       "    </tr>\n",
       "  </thead>\n",
       "  <tbody>\n",
       "    <tr>\n",
       "      <th>0</th>\n",
       "      <td>51739</td>\n",
       "      <td>Tushar Chandra</td>\n",
       "      <td>664760</td>\n",
       "      <td>312</td>\n",
       "      <td>Phi St</td>\n",
       "      <td>137882671</td>\n",
       "    </tr>\n",
       "    <tr>\n",
       "      <th>1</th>\n",
       "      <td>67318</td>\n",
       "      <td>Jeremy Bowers</td>\n",
       "      <td>423327</td>\n",
       "      <td>530</td>\n",
       "      <td>Washington Pl, Apt 3A</td>\n",
       "      <td>871539279</td>\n",
       "    </tr>\n",
       "    <tr>\n",
       "      <th>2</th>\n",
       "      <td>78193</td>\n",
       "      <td>Maxine Whitely</td>\n",
       "      <td>183779</td>\n",
       "      <td>110</td>\n",
       "      <td>Fisk Rd</td>\n",
       "      <td>137882671</td>\n",
       "    </tr>\n",
       "  </tbody>\n",
       "</table>\n",
       "</div>"
      ],
      "text/plain": [
       "      id            name  license_id  address_number    address_street_name  \\\n",
       "0  51739  Tushar Chandra      664760             312                 Phi St   \n",
       "1  67318   Jeremy Bowers      423327             530  Washington Pl, Apt 3A   \n",
       "2  78193  Maxine Whitely      183779             110                Fisk Rd   \n",
       "\n",
       "         ssn  \n",
       "0  137882671  \n",
       "1  871539279  \n",
       "2  137882671  "
      ]
     },
     "execution_count": 14,
     "metadata": {},
     "output_type": "execute_result"
    }
   ],
   "source": [
    "query9 = \"\"\" \n",
    "SELECT *FROM person \n",
    "WHERE license_id IN (183779, 423327, 664760);\n",
    "\"\"\"\n",
    "\n",
    "pd.read_sql_query(query9,conn)"
   ]
  },
  {
   "cell_type": "markdown",
   "metadata": {},
   "source": [
    "## 7. Membership Status at the Gym:\n",
    "### Task: Determine who is identified in the previous query as a member of the gym. Utilize the gym database to confirm their membership status."
   ]
  },
  {
   "cell_type": "code",
   "execution_count": 15,
   "metadata": {},
   "outputs": [
    {
     "data": {
      "text/html": [
       "<div>\n",
       "<style scoped>\n",
       "    .dataframe tbody tr th:only-of-type {\n",
       "        vertical-align: middle;\n",
       "    }\n",
       "\n",
       "    .dataframe tbody tr th {\n",
       "        vertical-align: top;\n",
       "    }\n",
       "\n",
       "    .dataframe thead th {\n",
       "        text-align: right;\n",
       "    }\n",
       "</style>\n",
       "<table border=\"1\" class=\"dataframe\">\n",
       "  <thead>\n",
       "    <tr style=\"text-align: right;\">\n",
       "      <th></th>\n",
       "      <th>id</th>\n",
       "      <th>name</th>\n",
       "      <th>license_id</th>\n",
       "      <th>address_number</th>\n",
       "      <th>address_street_name</th>\n",
       "      <th>ssn</th>\n",
       "    </tr>\n",
       "  </thead>\n",
       "  <tbody>\n",
       "    <tr>\n",
       "      <th>0</th>\n",
       "      <td>67318</td>\n",
       "      <td>Jeremy Bowers</td>\n",
       "      <td>423327</td>\n",
       "      <td>530</td>\n",
       "      <td>Washington Pl, Apt 3A</td>\n",
       "      <td>871539279</td>\n",
       "    </tr>\n",
       "  </tbody>\n",
       "</table>\n",
       "</div>"
      ],
      "text/plain": [
       "      id           name  license_id  address_number    address_street_name  \\\n",
       "0  67318  Jeremy Bowers      423327             530  Washington Pl, Apt 3A   \n",
       "\n",
       "         ssn  \n",
       "0  871539279  "
      ]
     },
     "execution_count": 15,
     "metadata": {},
     "output_type": "execute_result"
    }
   ],
   "source": [
    "query10 = \"\"\"     \n",
    "SELECT *FROM person \n",
    "WHERE license_id IN (183779, 423327, 664760) \n",
    "AND id IN (28819,67318);\n",
    "\"\"\"\n",
    "\n",
    "pd.read_sql_query(query10,conn)"
   ]
  },
  {
   "cell_type": "markdown",
   "metadata": {},
   "source": [
    "#### Congratulations !! We might have found the murderer but first we should read what he said in the witness interview. I mean does he already accepted the murder charges or not."
   ]
  },
  {
   "cell_type": "code",
   "execution_count": 16,
   "metadata": {},
   "outputs": [
    {
     "data": {
      "text/html": [
       "<div>\n",
       "<style scoped>\n",
       "    .dataframe tbody tr th:only-of-type {\n",
       "        vertical-align: middle;\n",
       "    }\n",
       "\n",
       "    .dataframe tbody tr th {\n",
       "        vertical-align: top;\n",
       "    }\n",
       "\n",
       "    .dataframe thead th {\n",
       "        text-align: right;\n",
       "    }\n",
       "</style>\n",
       "<table border=\"1\" class=\"dataframe\">\n",
       "  <thead>\n",
       "    <tr style=\"text-align: right;\">\n",
       "      <th></th>\n",
       "      <th>transcript</th>\n",
       "    </tr>\n",
       "  </thead>\n",
       "  <tbody>\n",
       "    <tr>\n",
       "      <th>0</th>\n",
       "      <td>I was hired by a woman with a lot of money. I ...</td>\n",
       "    </tr>\n",
       "  </tbody>\n",
       "</table>\n",
       "</div>"
      ],
      "text/plain": [
       "                                          transcript\n",
       "0  I was hired by a woman with a lot of money. I ..."
      ]
     },
     "execution_count": 16,
     "metadata": {},
     "output_type": "execute_result"
    }
   ],
   "source": [
    "query11 = \"\"\"     \n",
    "SELECT transcript \n",
    "FROM interview \n",
    "WHERE person_id  = 67318;\n",
    "\"\"\"\n",
    "\n",
    "pd.read_sql_query(query11,conn)"
   ]
  },
  {
   "cell_type": "markdown",
   "metadata": {},
   "source": [
    "#### Here we can see that he is not the actual murderer, he was hired by some woman. He also provided some insights about the woman. We need to investigate this information about the woman to catch the actual killer."
   ]
  },
  {
   "cell_type": "markdown",
   "metadata": {},
   "source": [
    "##### 1st insight : She's around 5'5\" (65\") or 5'7\" (67\"). She has red hair and she drives a Tesla Model S."
   ]
  },
  {
   "cell_type": "code",
   "execution_count": 17,
   "metadata": {},
   "outputs": [
    {
     "data": {
      "text/html": [
       "<div>\n",
       "<style scoped>\n",
       "    .dataframe tbody tr th:only-of-type {\n",
       "        vertical-align: middle;\n",
       "    }\n",
       "\n",
       "    .dataframe tbody tr th {\n",
       "        vertical-align: top;\n",
       "    }\n",
       "\n",
       "    .dataframe thead th {\n",
       "        text-align: right;\n",
       "    }\n",
       "</style>\n",
       "<table border=\"1\" class=\"dataframe\">\n",
       "  <thead>\n",
       "    <tr style=\"text-align: right;\">\n",
       "      <th></th>\n",
       "      <th>id</th>\n",
       "      <th>age</th>\n",
       "      <th>height</th>\n",
       "      <th>eye_color</th>\n",
       "      <th>hair_color</th>\n",
       "      <th>gender</th>\n",
       "      <th>plate_number</th>\n",
       "      <th>car_make</th>\n",
       "      <th>car_model</th>\n",
       "    </tr>\n",
       "  </thead>\n",
       "  <tbody>\n",
       "    <tr>\n",
       "      <th>0</th>\n",
       "      <td>202298</td>\n",
       "      <td>68</td>\n",
       "      <td>66</td>\n",
       "      <td>green</td>\n",
       "      <td>red</td>\n",
       "      <td>female</td>\n",
       "      <td>500123</td>\n",
       "      <td>Tesla</td>\n",
       "      <td>Model S</td>\n",
       "    </tr>\n",
       "    <tr>\n",
       "      <th>1</th>\n",
       "      <td>291182</td>\n",
       "      <td>65</td>\n",
       "      <td>66</td>\n",
       "      <td>blue</td>\n",
       "      <td>red</td>\n",
       "      <td>female</td>\n",
       "      <td>08CM64</td>\n",
       "      <td>Tesla</td>\n",
       "      <td>Model S</td>\n",
       "    </tr>\n",
       "    <tr>\n",
       "      <th>2</th>\n",
       "      <td>918773</td>\n",
       "      <td>48</td>\n",
       "      <td>65</td>\n",
       "      <td>black</td>\n",
       "      <td>red</td>\n",
       "      <td>female</td>\n",
       "      <td>917UU3</td>\n",
       "      <td>Tesla</td>\n",
       "      <td>Model S</td>\n",
       "    </tr>\n",
       "  </tbody>\n",
       "</table>\n",
       "</div>"
      ],
      "text/plain": [
       "       id  age  height eye_color hair_color  gender plate_number car_make  \\\n",
       "0  202298   68      66     green        red  female       500123    Tesla   \n",
       "1  291182   65      66      blue        red  female       08CM64    Tesla   \n",
       "2  918773   48      65     black        red  female       917UU3    Tesla   \n",
       "\n",
       "  car_model  \n",
       "0   Model S  \n",
       "1   Model S  \n",
       "2   Model S  "
      ]
     },
     "execution_count": 17,
     "metadata": {},
     "output_type": "execute_result"
    }
   ],
   "source": [
    "query12 = \"\"\"     \n",
    "SELECT *FROM drivers_license \n",
    "WHERE gender  = \"female\" \n",
    "AND height BETWEEN 65 AND 67 \n",
    "AND hair_color = \"red\" \n",
    "AND car_make = \"Tesla\" \n",
    "AND car_model  = \"Model S\";\n",
    "\"\"\"\n",
    "\n",
    "pd.read_sql_query(query12,conn)"
   ]
  },
  {
   "cell_type": "markdown",
   "metadata": {},
   "source": [
    "##### To establish a link between 1st insight and 2nd insight, we have to find the person's unique identity number from there license id."
   ]
  },
  {
   "cell_type": "code",
   "execution_count": 18,
   "metadata": {},
   "outputs": [
    {
     "data": {
      "text/html": [
       "<div>\n",
       "<style scoped>\n",
       "    .dataframe tbody tr th:only-of-type {\n",
       "        vertical-align: middle;\n",
       "    }\n",
       "\n",
       "    .dataframe tbody tr th {\n",
       "        vertical-align: top;\n",
       "    }\n",
       "\n",
       "    .dataframe thead th {\n",
       "        text-align: right;\n",
       "    }\n",
       "</style>\n",
       "<table border=\"1\" class=\"dataframe\">\n",
       "  <thead>\n",
       "    <tr style=\"text-align: right;\">\n",
       "      <th></th>\n",
       "      <th>id</th>\n",
       "    </tr>\n",
       "  </thead>\n",
       "  <tbody>\n",
       "    <tr>\n",
       "      <th>0</th>\n",
       "      <td>78881</td>\n",
       "    </tr>\n",
       "    <tr>\n",
       "      <th>1</th>\n",
       "      <td>90700</td>\n",
       "    </tr>\n",
       "    <tr>\n",
       "      <th>2</th>\n",
       "      <td>99716</td>\n",
       "    </tr>\n",
       "  </tbody>\n",
       "</table>\n",
       "</div>"
      ],
      "text/plain": [
       "      id\n",
       "0  78881\n",
       "1  90700\n",
       "2  99716"
      ]
     },
     "execution_count": 18,
     "metadata": {},
     "output_type": "execute_result"
    }
   ],
   "source": [
    "query13 = \"\"\"\n",
    "SELECT id FROM person \n",
    "WHERE license_id IN (202298,291182,918773);\n",
    "\"\"\"\n",
    "\n",
    "pd.read_sql_query(query13,conn)"
   ]
  },
  {
   "cell_type": "markdown",
   "metadata": {},
   "source": [
    "##### 2nd insight : She attended the SQL Symphony Concert 3 times in December 2017."
   ]
  },
  {
   "cell_type": "code",
   "execution_count": 19,
   "metadata": {},
   "outputs": [
    {
     "data": {
      "text/html": [
       "<div>\n",
       "<style scoped>\n",
       "    .dataframe tbody tr th:only-of-type {\n",
       "        vertical-align: middle;\n",
       "    }\n",
       "\n",
       "    .dataframe tbody tr th {\n",
       "        vertical-align: top;\n",
       "    }\n",
       "\n",
       "    .dataframe thead th {\n",
       "        text-align: right;\n",
       "    }\n",
       "</style>\n",
       "<table border=\"1\" class=\"dataframe\">\n",
       "  <thead>\n",
       "    <tr style=\"text-align: right;\">\n",
       "      <th></th>\n",
       "      <th>person_id</th>\n",
       "      <th>event_id</th>\n",
       "      <th>event_name</th>\n",
       "      <th>date</th>\n",
       "    </tr>\n",
       "  </thead>\n",
       "  <tbody>\n",
       "    <tr>\n",
       "      <th>0</th>\n",
       "      <td>99716</td>\n",
       "      <td>1143</td>\n",
       "      <td>SQL Symphony Concert</td>\n",
       "      <td>20171206</td>\n",
       "    </tr>\n",
       "    <tr>\n",
       "      <th>1</th>\n",
       "      <td>99716</td>\n",
       "      <td>1143</td>\n",
       "      <td>SQL Symphony Concert</td>\n",
       "      <td>20171212</td>\n",
       "    </tr>\n",
       "    <tr>\n",
       "      <th>2</th>\n",
       "      <td>99716</td>\n",
       "      <td>1143</td>\n",
       "      <td>SQL Symphony Concert</td>\n",
       "      <td>20171229</td>\n",
       "    </tr>\n",
       "  </tbody>\n",
       "</table>\n",
       "</div>"
      ],
      "text/plain": [
       "   person_id  event_id            event_name      date\n",
       "0      99716      1143  SQL Symphony Concert  20171206\n",
       "1      99716      1143  SQL Symphony Concert  20171212\n",
       "2      99716      1143  SQL Symphony Concert  20171229"
      ]
     },
     "execution_count": 19,
     "metadata": {},
     "output_type": "execute_result"
    }
   ],
   "source": [
    "query14 = \"\"\" \n",
    "SELECT *FROM facebook_event_checkin \n",
    "WHERE person_id IN (78881,90700,99716) \n",
    "AND event_name  = \"SQL Symphony Concert\" \n",
    "AND date LIKE \"201712%\";\n",
    "\"\"\"\n",
    "\n",
    "pd.read_sql_query(query14,conn)"
   ]
  },
  {
   "cell_type": "markdown",
   "metadata": {},
   "source": [
    "#### We have found the murderer. Let's find his personal detail to know more about her."
   ]
  },
  {
   "cell_type": "code",
   "execution_count": 20,
   "metadata": {},
   "outputs": [
    {
     "data": {
      "text/html": [
       "<div>\n",
       "<style scoped>\n",
       "    .dataframe tbody tr th:only-of-type {\n",
       "        vertical-align: middle;\n",
       "    }\n",
       "\n",
       "    .dataframe tbody tr th {\n",
       "        vertical-align: top;\n",
       "    }\n",
       "\n",
       "    .dataframe thead th {\n",
       "        text-align: right;\n",
       "    }\n",
       "</style>\n",
       "<table border=\"1\" class=\"dataframe\">\n",
       "  <thead>\n",
       "    <tr style=\"text-align: right;\">\n",
       "      <th></th>\n",
       "      <th>id</th>\n",
       "      <th>name</th>\n",
       "      <th>license_id</th>\n",
       "      <th>address_number</th>\n",
       "      <th>address_street_name</th>\n",
       "      <th>ssn</th>\n",
       "    </tr>\n",
       "  </thead>\n",
       "  <tbody>\n",
       "    <tr>\n",
       "      <th>0</th>\n",
       "      <td>99716</td>\n",
       "      <td>Miranda Priestly</td>\n",
       "      <td>202298</td>\n",
       "      <td>1883</td>\n",
       "      <td>Golden Ave</td>\n",
       "      <td>987756388</td>\n",
       "    </tr>\n",
       "  </tbody>\n",
       "</table>\n",
       "</div>"
      ],
      "text/plain": [
       "      id              name  license_id  address_number address_street_name  \\\n",
       "0  99716  Miranda Priestly      202298            1883          Golden Ave   \n",
       "\n",
       "         ssn  \n",
       "0  987756388  "
      ]
     },
     "execution_count": 20,
     "metadata": {},
     "output_type": "execute_result"
    }
   ],
   "source": [
    "query15 = \"\"\"     \n",
    "SELECT *FROM person \n",
    "WHERE id  = 99716;\n",
    "\"\"\"\n",
    "\n",
    "pd.read_sql_query(query15,conn)"
   ]
  },
  {
   "cell_type": "markdown",
   "metadata": {},
   "source": [
    "#### Insert the name of the murderer in the solution Table."
   ]
  },
  {
   "cell_type": "code",
   "execution_count": 36,
   "metadata": {},
   "outputs": [
    {
     "data": {
      "text/plain": [
       "<sqlite3.Cursor at 0x1d8cfba7640>"
      ]
     },
     "execution_count": 36,
     "metadata": {},
     "output_type": "execute_result"
    }
   ],
   "source": [
    "conn.execute(\"\"\"INSERT INTO solution VALUES (\"Miranda Priestly\",1);\"\"\")"
   ]
  },
  {
   "cell_type": "code",
   "execution_count": 37,
   "metadata": {},
   "outputs": [
    {
     "data": {
      "text/html": [
       "<div>\n",
       "<style scoped>\n",
       "    .dataframe tbody tr th:only-of-type {\n",
       "        vertical-align: middle;\n",
       "    }\n",
       "\n",
       "    .dataframe tbody tr th {\n",
       "        vertical-align: top;\n",
       "    }\n",
       "\n",
       "    .dataframe thead th {\n",
       "        text-align: right;\n",
       "    }\n",
       "</style>\n",
       "<table border=\"1\" class=\"dataframe\">\n",
       "  <thead>\n",
       "    <tr style=\"text-align: right;\">\n",
       "      <th></th>\n",
       "      <th>user</th>\n",
       "      <th>value</th>\n",
       "    </tr>\n",
       "  </thead>\n",
       "  <tbody>\n",
       "    <tr>\n",
       "      <th>0</th>\n",
       "      <td>Miranda Priestly</td>\n",
       "      <td>1</td>\n",
       "    </tr>\n",
       "  </tbody>\n",
       "</table>\n",
       "</div>"
      ],
      "text/plain": [
       "               user value\n",
       "0  Miranda Priestly     1"
      ]
     },
     "execution_count": 37,
     "metadata": {},
     "output_type": "execute_result"
    }
   ],
   "source": [
    "query17 = \"\"\"     \n",
    "SELECT *FROM solution;\n",
    "\"\"\"\n",
    "\n",
    "pd.read_sql_query(query17,conn)"
   ]
  },
  {
   "cell_type": "code",
   "execution_count": null,
   "metadata": {},
   "outputs": [],
   "source": []
  }
 ],
 "metadata": {
  "kernelspec": {
   "display_name": "base",
   "language": "python",
   "name": "python3"
  },
  "language_info": {
   "codemirror_mode": {
    "name": "ipython",
    "version": 3
   },
   "file_extension": ".py",
   "mimetype": "text/x-python",
   "name": "python",
   "nbconvert_exporter": "python",
   "pygments_lexer": "ipython3",
   "version": "3.11.5"
  }
 },
 "nbformat": 4,
 "nbformat_minor": 2
}
